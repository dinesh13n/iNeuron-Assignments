{
 "cells": [
  {
   "cell_type": "markdown",
   "metadata": {},
   "source": [
    "#### Questions 1.1 Write a Python Program(with class concepts) to find the area of the triangle using the below formula. \n",
    " \n",
    "area = (s*(s-a)*(s-b)*(s-c)) ** 0.5 \n",
    " \n",
    "Function to take the length of the sides of triangle from user should be defined in the parent class and function to calculate the area should be defined in subclass.  "
   ]
  },
  {
   "cell_type": "code",
   "execution_count": 16,
   "metadata": {},
   "outputs": [],
   "source": [
    "class triangle :\n",
    "    def __init__(self):\n",
    "        self.a = float(input(\"Please Enter first angle length : \"))\n",
    "        self.b = float(input(\"Please Enter second angle length : \"))\n",
    "        self.c = float(input(\"Please Enter second angle length : \"))\n",
    "        #print (\"a = {}, b = {}, c = {}\".format(self.a,self.b,self.c))"
   ]
  },
  {
   "cell_type": "code",
   "execution_count": 17,
   "metadata": {},
   "outputs": [],
   "source": [
    "class area (triangle):\n",
    "    def __init__(self):\n",
    "\n",
    "        super().__init__()\n",
    "    \n",
    "    def area_calc(self):\n",
    "        a = self.a\n",
    "        b = self.b\n",
    "        c = self.c\n",
    "        s = (a+b+c)/2\n",
    "        ##print (\"s--{} \".format(s))\n",
    "        return ((s*(s-a)*(s-b)*(s-c)) * 0.5)\n"
   ]
  },
  {
   "cell_type": "code",
   "execution_count": 18,
   "metadata": {},
   "outputs": [
    {
     "name": "stdout",
     "output_type": "stream",
     "text": [
      "Please Enter first angle length : 4\n",
      "Please Enter second angle length : 5\n",
      "Please Enter second angle length : 6\n",
      "a = 4.0, b = 5.0, c = 6.0\n",
      "Area of calculation is :  49.21875\n"
     ]
    }
   ],
   "source": [
    "abc = area()\n",
    "print (\"Area of calculation is : \",abc.area_calc())"
   ]
  },
  {
   "cell_type": "markdown",
   "metadata": {},
   "source": [
    "#### Question 1.2:- Write a function filter_long_words() that takes a list of words and an integer n and returns the list of words that are longer than n. "
   ]
  },
  {
   "cell_type": "code",
   "execution_count": 19,
   "metadata": {},
   "outputs": [],
   "source": [
    "def filter_long_words(lstwrd,n):\n",
    "    #Return the list of output word, who is longer than list of words\n",
    "    return list(filter(lambda x: len(x)>n,lstwrd))    "
   ]
  },
  {
   "cell_type": "code",
   "execution_count": 20,
   "metadata": {},
   "outputs": [
    {
     "name": "stdout",
     "output_type": "stream",
     "text": [
      "Result is : ['Dinesh', 'Kumar', 'Naik']\n"
     ]
    }
   ],
   "source": [
    "lstwrd = [\"Dinesh\",\"Kumar\",\"Naik\",\"fun\",\"as\",\"a\"]\n",
    "print (\"Result is :\",filter_long_words(lstwrd,3))"
   ]
  },
  {
   "cell_type": "markdown",
   "metadata": {},
   "source": [
    "#### Question 2.1:- Write a Python program using function concept that maps list of words into a list of integers representing the lengths of the corresponding words. \n",
    " \n",
    "Hint: If a list [ ab,cde,erty] is passed on to the python function output should come as [2,3,4] \n",
    " \n",
    "Here 2,3 and 4 are the lengths of the words in the list. "
   ]
  },
  {
   "cell_type": "code",
   "execution_count": 25,
   "metadata": {},
   "outputs": [],
   "source": [
    "def word_length(lstwrd):\n",
    "    #Return the length of words\n",
    "    return list(map(lambda x: len(x),lstwrd))"
   ]
  },
  {
   "cell_type": "code",
   "execution_count": 26,
   "metadata": {},
   "outputs": [
    {
     "name": "stdout",
     "output_type": "stream",
     "text": [
      "Result is : [6, 5, 4, 3, 2, 1]\n"
     ]
    }
   ],
   "source": [
    "lstwrd = [\"Dinesh\",\"Kumar\",\"Naik\",\"fun\",\"as\",\"a\"]\n",
    "print (\"Result is :\",word_length(lstwrd))"
   ]
  },
  {
   "cell_type": "markdown",
   "metadata": {},
   "source": [
    "#### Question 2.2:- Write a Python function which takes a character (i.e. a string of length 1) and returns True if it is a vowel, False otherwise"
   ]
  },
  {
   "cell_type": "code",
   "execution_count": 27,
   "metadata": {},
   "outputs": [],
   "source": [
    "def isVowel(inp_char):\n",
    "    #Check the charecter is vowel?\n",
    "    lst = [\"A\",\"E\",\"I\",\"O\",\"U\"]\n",
    "    return (inp_char in lst)"
   ]
  },
  {
   "cell_type": "code",
   "execution_count": 36,
   "metadata": {},
   "outputs": [
    {
     "name": "stdout",
     "output_type": "stream",
     "text": [
      "Please enter character :r\n",
      "Character r is vowel : False\n"
     ]
    }
   ],
   "source": [
    "inp_char = str(input(\"Please enter character :\").strip())\n",
    "print(\"Character {} is vowel : {}\".format(inp_char,isVowel(inp_char.upper())))"
   ]
  }
 ],
 "metadata": {
  "kernelspec": {
   "display_name": "Python 3",
   "language": "python",
   "name": "python3"
  },
  "language_info": {
   "codemirror_mode": {
    "name": "ipython",
    "version": 3
   },
   "file_extension": ".py",
   "mimetype": "text/x-python",
   "name": "python",
   "nbconvert_exporter": "python",
   "pygments_lexer": "ipython3",
   "version": "3.7.9"
  }
 },
 "nbformat": 4,
 "nbformat_minor": 4
}
