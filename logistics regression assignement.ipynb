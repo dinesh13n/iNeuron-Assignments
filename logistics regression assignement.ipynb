{
 "cells": [
  {
   "cell_type": "code",
   "execution_count": 1,
   "metadata": {},
   "outputs": [],
   "source": [
    "# Import required Library\n",
    "import numpy as np\n",
    "import pandas as pd\n",
    "import statsmodels.api as sm\n",
    "import matplotlib.pyplot as plt\n",
    "from patsy import dmatrices\n",
    "from sklearn.linear_model import LogisticRegression \n",
    "from sklearn.model_selection import train_test_split,cross_val_score \n",
    "from sklearn import metrics\n",
    "from sklearn.metrics import accuracy_score, confusion_matrix, roc_curve, roc_auc_score\n",
    "#from sklearn.cross_validation import cross_val_score\n",
    "import seaborn as sns"
   ]
  },
  {
   "cell_type": "markdown",
   "metadata": {},
   "source": [
    "'''\n",
    "#### Description of Variables\n",
    "\n",
    "    The dataset contains 6366 observations of 9 variables:\n",
    "    \n",
    "        rate_marriage: woman's rating of her marriage (1 = very poor, 5 = very good)\n",
    "        \n",
    "        age: woman's age\n",
    "        \n",
    "        yrs_married: number of years married\n",
    "        \n",
    "        children: number of children\n",
    "        \n",
    "        religious: woman's rating of how religious she is (1 = not religious, 4 = strongly religious)\n",
    "        \n",
    "        educ: level of education (9 = grade school, 12 = high school, 14 =some college, 16 = college graduate\n",
    "        , 17 = some graduate school, 20 = advanced degree)\n",
    "        \n",
    "        occupation: woman's occupation (1 = student, 2 = farming/semiskilled/unskilled, 3 = \"white collar\", 4 =\n",
    "        teacher/nurse/writer/technician/skilled, 5 = managerial/business, 6 = professional with advanced degree)\n",
    "        \n",
    "        occupation_husb: husband's occupation (same coding as above)\n",
    "        \n",
    "        affairs: time spent in extra-marital affairs\n",
    "'''"
   ]
  },
  {
   "cell_type": "code",
   "execution_count": 2,
   "metadata": {},
   "outputs": [
    {
     "data": {
      "text/html": [
       "<div>\n",
       "<style scoped>\n",
       "    .dataframe tbody tr th:only-of-type {\n",
       "        vertical-align: middle;\n",
       "    }\n",
       "\n",
       "    .dataframe tbody tr th {\n",
       "        vertical-align: top;\n",
       "    }\n",
       "\n",
       "    .dataframe thead th {\n",
       "        text-align: right;\n",
       "    }\n",
       "</style>\n",
       "<table border=\"1\" class=\"dataframe\">\n",
       "  <thead>\n",
       "    <tr style=\"text-align: right;\">\n",
       "      <th></th>\n",
       "      <th>rate_marriage</th>\n",
       "      <th>age</th>\n",
       "      <th>yrs_married</th>\n",
       "      <th>children</th>\n",
       "      <th>religious</th>\n",
       "      <th>educ</th>\n",
       "      <th>occupation</th>\n",
       "      <th>occupation_husb</th>\n",
       "      <th>affairs</th>\n",
       "    </tr>\n",
       "  </thead>\n",
       "  <tbody>\n",
       "    <tr>\n",
       "      <th>0</th>\n",
       "      <td>3.0</td>\n",
       "      <td>32.0</td>\n",
       "      <td>9.0</td>\n",
       "      <td>3.0</td>\n",
       "      <td>3.0</td>\n",
       "      <td>17.0</td>\n",
       "      <td>2.0</td>\n",
       "      <td>5.0</td>\n",
       "      <td>0.111111</td>\n",
       "    </tr>\n",
       "    <tr>\n",
       "      <th>1</th>\n",
       "      <td>3.0</td>\n",
       "      <td>27.0</td>\n",
       "      <td>13.0</td>\n",
       "      <td>3.0</td>\n",
       "      <td>1.0</td>\n",
       "      <td>14.0</td>\n",
       "      <td>3.0</td>\n",
       "      <td>4.0</td>\n",
       "      <td>3.230769</td>\n",
       "    </tr>\n",
       "    <tr>\n",
       "      <th>2</th>\n",
       "      <td>4.0</td>\n",
       "      <td>22.0</td>\n",
       "      <td>2.5</td>\n",
       "      <td>0.0</td>\n",
       "      <td>1.0</td>\n",
       "      <td>16.0</td>\n",
       "      <td>3.0</td>\n",
       "      <td>5.0</td>\n",
       "      <td>1.400000</td>\n",
       "    </tr>\n",
       "    <tr>\n",
       "      <th>3</th>\n",
       "      <td>4.0</td>\n",
       "      <td>37.0</td>\n",
       "      <td>16.5</td>\n",
       "      <td>4.0</td>\n",
       "      <td>3.0</td>\n",
       "      <td>16.0</td>\n",
       "      <td>5.0</td>\n",
       "      <td>5.0</td>\n",
       "      <td>0.727273</td>\n",
       "    </tr>\n",
       "    <tr>\n",
       "      <th>4</th>\n",
       "      <td>5.0</td>\n",
       "      <td>27.0</td>\n",
       "      <td>9.0</td>\n",
       "      <td>1.0</td>\n",
       "      <td>1.0</td>\n",
       "      <td>14.0</td>\n",
       "      <td>3.0</td>\n",
       "      <td>4.0</td>\n",
       "      <td>4.666666</td>\n",
       "    </tr>\n",
       "    <tr>\n",
       "      <th>...</th>\n",
       "      <td>...</td>\n",
       "      <td>...</td>\n",
       "      <td>...</td>\n",
       "      <td>...</td>\n",
       "      <td>...</td>\n",
       "      <td>...</td>\n",
       "      <td>...</td>\n",
       "      <td>...</td>\n",
       "      <td>...</td>\n",
       "    </tr>\n",
       "    <tr>\n",
       "      <th>6361</th>\n",
       "      <td>5.0</td>\n",
       "      <td>32.0</td>\n",
       "      <td>13.0</td>\n",
       "      <td>2.0</td>\n",
       "      <td>3.0</td>\n",
       "      <td>17.0</td>\n",
       "      <td>4.0</td>\n",
       "      <td>3.0</td>\n",
       "      <td>0.000000</td>\n",
       "    </tr>\n",
       "    <tr>\n",
       "      <th>6362</th>\n",
       "      <td>4.0</td>\n",
       "      <td>32.0</td>\n",
       "      <td>13.0</td>\n",
       "      <td>1.0</td>\n",
       "      <td>1.0</td>\n",
       "      <td>16.0</td>\n",
       "      <td>5.0</td>\n",
       "      <td>5.0</td>\n",
       "      <td>0.000000</td>\n",
       "    </tr>\n",
       "    <tr>\n",
       "      <th>6363</th>\n",
       "      <td>5.0</td>\n",
       "      <td>22.0</td>\n",
       "      <td>2.5</td>\n",
       "      <td>0.0</td>\n",
       "      <td>2.0</td>\n",
       "      <td>14.0</td>\n",
       "      <td>3.0</td>\n",
       "      <td>1.0</td>\n",
       "      <td>0.000000</td>\n",
       "    </tr>\n",
       "    <tr>\n",
       "      <th>6364</th>\n",
       "      <td>5.0</td>\n",
       "      <td>32.0</td>\n",
       "      <td>6.0</td>\n",
       "      <td>1.0</td>\n",
       "      <td>3.0</td>\n",
       "      <td>14.0</td>\n",
       "      <td>3.0</td>\n",
       "      <td>4.0</td>\n",
       "      <td>0.000000</td>\n",
       "    </tr>\n",
       "    <tr>\n",
       "      <th>6365</th>\n",
       "      <td>4.0</td>\n",
       "      <td>22.0</td>\n",
       "      <td>2.5</td>\n",
       "      <td>0.0</td>\n",
       "      <td>2.0</td>\n",
       "      <td>16.0</td>\n",
       "      <td>2.0</td>\n",
       "      <td>4.0</td>\n",
       "      <td>0.000000</td>\n",
       "    </tr>\n",
       "  </tbody>\n",
       "</table>\n",
       "<p>6366 rows × 9 columns</p>\n",
       "</div>"
      ],
      "text/plain": [
       "      rate_marriage   age  yrs_married  children  religious  educ  occupation  \\\n",
       "0               3.0  32.0          9.0       3.0        3.0  17.0         2.0   \n",
       "1               3.0  27.0         13.0       3.0        1.0  14.0         3.0   \n",
       "2               4.0  22.0          2.5       0.0        1.0  16.0         3.0   \n",
       "3               4.0  37.0         16.5       4.0        3.0  16.0         5.0   \n",
       "4               5.0  27.0          9.0       1.0        1.0  14.0         3.0   \n",
       "...             ...   ...          ...       ...        ...   ...         ...   \n",
       "6361            5.0  32.0         13.0       2.0        3.0  17.0         4.0   \n",
       "6362            4.0  32.0         13.0       1.0        1.0  16.0         5.0   \n",
       "6363            5.0  22.0          2.5       0.0        2.0  14.0         3.0   \n",
       "6364            5.0  32.0          6.0       1.0        3.0  14.0         3.0   \n",
       "6365            4.0  22.0          2.5       0.0        2.0  16.0         2.0   \n",
       "\n",
       "      occupation_husb   affairs  \n",
       "0                 5.0  0.111111  \n",
       "1                 4.0  3.230769  \n",
       "2                 5.0  1.400000  \n",
       "3                 5.0  0.727273  \n",
       "4                 4.0  4.666666  \n",
       "...               ...       ...  \n",
       "6361              3.0  0.000000  \n",
       "6362              5.0  0.000000  \n",
       "6363              1.0  0.000000  \n",
       "6364              4.0  0.000000  \n",
       "6365              4.0  0.000000  \n",
       "\n",
       "[6366 rows x 9 columns]"
      ]
     },
     "execution_count": 2,
     "metadata": {},
     "output_type": "execute_result"
    }
   ],
   "source": [
    "# Load dataset\n",
    "dta = sm.datasets.fair.load_pandas().data\n",
    "dta"
   ]
  },
  {
   "cell_type": "markdown",
   "metadata": {},
   "source": [
    "#### Map the value for given discriptive value"
   ]
  },
  {
   "cell_type": "code",
   "execution_count": 3,
   "metadata": {},
   "outputs": [
    {
     "data": {
      "text/html": [
       "<div>\n",
       "<style scoped>\n",
       "    .dataframe tbody tr th:only-of-type {\n",
       "        vertical-align: middle;\n",
       "    }\n",
       "\n",
       "    .dataframe tbody tr th {\n",
       "        vertical-align: top;\n",
       "    }\n",
       "\n",
       "    .dataframe thead th {\n",
       "        text-align: right;\n",
       "    }\n",
       "</style>\n",
       "<table border=\"1\" class=\"dataframe\">\n",
       "  <thead>\n",
       "    <tr style=\"text-align: right;\">\n",
       "      <th></th>\n",
       "      <th>rate_marriage</th>\n",
       "      <th>age</th>\n",
       "      <th>yrs_married</th>\n",
       "      <th>children</th>\n",
       "      <th>religious</th>\n",
       "      <th>educ</th>\n",
       "      <th>occupation</th>\n",
       "      <th>occupation_husb</th>\n",
       "      <th>affairs</th>\n",
       "    </tr>\n",
       "  </thead>\n",
       "  <tbody>\n",
       "    <tr>\n",
       "      <th>0</th>\n",
       "      <td>medium</td>\n",
       "      <td>32.0</td>\n",
       "      <td>9.0</td>\n",
       "      <td>3.0</td>\n",
       "      <td>religious</td>\n",
       "      <td>some graduate school</td>\n",
       "      <td>farming/semiskilled/unskilled</td>\n",
       "      <td>managerial/business</td>\n",
       "      <td>0.111111</td>\n",
       "    </tr>\n",
       "    <tr>\n",
       "      <th>1</th>\n",
       "      <td>medium</td>\n",
       "      <td>27.0</td>\n",
       "      <td>13.0</td>\n",
       "      <td>3.0</td>\n",
       "      <td>not religious</td>\n",
       "      <td>some college</td>\n",
       "      <td>white collar</td>\n",
       "      <td>teacher/nurse/writer/technician/skilled</td>\n",
       "      <td>3.230769</td>\n",
       "    </tr>\n",
       "    <tr>\n",
       "      <th>2</th>\n",
       "      <td>good</td>\n",
       "      <td>22.0</td>\n",
       "      <td>2.5</td>\n",
       "      <td>0.0</td>\n",
       "      <td>not religious</td>\n",
       "      <td>college graduate</td>\n",
       "      <td>white collar</td>\n",
       "      <td>managerial/business</td>\n",
       "      <td>1.400000</td>\n",
       "    </tr>\n",
       "    <tr>\n",
       "      <th>3</th>\n",
       "      <td>good</td>\n",
       "      <td>37.0</td>\n",
       "      <td>16.5</td>\n",
       "      <td>4.0</td>\n",
       "      <td>religious</td>\n",
       "      <td>college graduate</td>\n",
       "      <td>managerial/business</td>\n",
       "      <td>managerial/business</td>\n",
       "      <td>0.727273</td>\n",
       "    </tr>\n",
       "    <tr>\n",
       "      <th>4</th>\n",
       "      <td>very good</td>\n",
       "      <td>27.0</td>\n",
       "      <td>9.0</td>\n",
       "      <td>1.0</td>\n",
       "      <td>not religious</td>\n",
       "      <td>some college</td>\n",
       "      <td>white collar</td>\n",
       "      <td>teacher/nurse/writer/technician/skilled</td>\n",
       "      <td>4.666666</td>\n",
       "    </tr>\n",
       "    <tr>\n",
       "      <th>...</th>\n",
       "      <td>...</td>\n",
       "      <td>...</td>\n",
       "      <td>...</td>\n",
       "      <td>...</td>\n",
       "      <td>...</td>\n",
       "      <td>...</td>\n",
       "      <td>...</td>\n",
       "      <td>...</td>\n",
       "      <td>...</td>\n",
       "    </tr>\n",
       "    <tr>\n",
       "      <th>6361</th>\n",
       "      <td>very good</td>\n",
       "      <td>32.0</td>\n",
       "      <td>13.0</td>\n",
       "      <td>2.0</td>\n",
       "      <td>religious</td>\n",
       "      <td>some graduate school</td>\n",
       "      <td>teacher/nurse/writer/technician/skilled</td>\n",
       "      <td>white collar</td>\n",
       "      <td>0.000000</td>\n",
       "    </tr>\n",
       "    <tr>\n",
       "      <th>6362</th>\n",
       "      <td>good</td>\n",
       "      <td>32.0</td>\n",
       "      <td>13.0</td>\n",
       "      <td>1.0</td>\n",
       "      <td>not religious</td>\n",
       "      <td>college graduate</td>\n",
       "      <td>managerial/business</td>\n",
       "      <td>managerial/business</td>\n",
       "      <td>0.000000</td>\n",
       "    </tr>\n",
       "    <tr>\n",
       "      <th>6363</th>\n",
       "      <td>very good</td>\n",
       "      <td>22.0</td>\n",
       "      <td>2.5</td>\n",
       "      <td>0.0</td>\n",
       "      <td>communal</td>\n",
       "      <td>some college</td>\n",
       "      <td>white collar</td>\n",
       "      <td>student</td>\n",
       "      <td>0.000000</td>\n",
       "    </tr>\n",
       "    <tr>\n",
       "      <th>6364</th>\n",
       "      <td>very good</td>\n",
       "      <td>32.0</td>\n",
       "      <td>6.0</td>\n",
       "      <td>1.0</td>\n",
       "      <td>religious</td>\n",
       "      <td>some college</td>\n",
       "      <td>white collar</td>\n",
       "      <td>teacher/nurse/writer/technician/skilled</td>\n",
       "      <td>0.000000</td>\n",
       "    </tr>\n",
       "    <tr>\n",
       "      <th>6365</th>\n",
       "      <td>good</td>\n",
       "      <td>22.0</td>\n",
       "      <td>2.5</td>\n",
       "      <td>0.0</td>\n",
       "      <td>communal</td>\n",
       "      <td>college graduate</td>\n",
       "      <td>farming/semiskilled/unskilled</td>\n",
       "      <td>teacher/nurse/writer/technician/skilled</td>\n",
       "      <td>0.000000</td>\n",
       "    </tr>\n",
       "  </tbody>\n",
       "</table>\n",
       "<p>6366 rows × 9 columns</p>\n",
       "</div>"
      ],
      "text/plain": [
       "     rate_marriage   age  yrs_married  children      religious  \\\n",
       "0           medium  32.0          9.0       3.0      religious   \n",
       "1           medium  27.0         13.0       3.0  not religious   \n",
       "2             good  22.0          2.5       0.0  not religious   \n",
       "3             good  37.0         16.5       4.0      religious   \n",
       "4        very good  27.0          9.0       1.0  not religious   \n",
       "...            ...   ...          ...       ...            ...   \n",
       "6361     very good  32.0         13.0       2.0      religious   \n",
       "6362          good  32.0         13.0       1.0  not religious   \n",
       "6363     very good  22.0          2.5       0.0       communal   \n",
       "6364     very good  32.0          6.0       1.0      religious   \n",
       "6365          good  22.0          2.5       0.0       communal   \n",
       "\n",
       "                      educ                               occupation  \\\n",
       "0     some graduate school            farming/semiskilled/unskilled   \n",
       "1             some college                             white collar   \n",
       "2         college graduate                             white collar   \n",
       "3         college graduate                      managerial/business   \n",
       "4             some college                             white collar   \n",
       "...                    ...                                      ...   \n",
       "6361  some graduate school  teacher/nurse/writer/technician/skilled   \n",
       "6362      college graduate                      managerial/business   \n",
       "6363          some college                             white collar   \n",
       "6364          some college                             white collar   \n",
       "6365      college graduate            farming/semiskilled/unskilled   \n",
       "\n",
       "                              occupation_husb   affairs  \n",
       "0                         managerial/business  0.111111  \n",
       "1     teacher/nurse/writer/technician/skilled  3.230769  \n",
       "2                         managerial/business  1.400000  \n",
       "3                         managerial/business  0.727273  \n",
       "4     teacher/nurse/writer/technician/skilled  4.666666  \n",
       "...                                       ...       ...  \n",
       "6361                             white collar  0.000000  \n",
       "6362                      managerial/business  0.000000  \n",
       "6363                                  student  0.000000  \n",
       "6364  teacher/nurse/writer/technician/skilled  0.000000  \n",
       "6365  teacher/nurse/writer/technician/skilled  0.000000  \n",
       "\n",
       "[6366 rows x 9 columns]"
      ]
     },
     "execution_count": 3,
     "metadata": {},
     "output_type": "execute_result"
    }
   ],
   "source": [
    "map_data = dta.copy()\n",
    "map_data[\"rate_marriage\"] = map_data[\"rate_marriage\"].map({1: \"very poor\", 2:\"poor\",3:\"medium\",4:\"good\", 5:\"very good\"})\n",
    "map_data[\"religious\"] = map_data[\"religious\"].map({1: \"not religious\", 2:\"communal\", 3:\"religious\",4:\"strongly religious\"})\n",
    "map_data[\"educ\"] = map_data[\"educ\"].map({9 :\"grade school\", 12:\"high school\", 14:\"some college\", 16:\"college graduate\" , 17:\"some graduate school\", 20:\"advanced degree\"})\n",
    "map_data[\"occupation\"] = map_data[\"occupation\"].map({1:\"student\", 2:\"farming/semiskilled/unskilled\", 3:\"white collar\", 4:\"teacher/nurse/writer/technician/skilled\", 5:\"managerial/business\", 6:\"professional with advanced degree\"})\n",
    "map_data[\"occupation_husb\"] = map_data[\"occupation_husb\"].map({1:\"student\", 2:\"farming/semiskilled/unskilled\", 3:\"white collar\", 4:\"teacher/nurse/writer/technician/skilled\", 5:\"managerial/business\", 6:\"professional with advanced degree\"})\n",
    "map_data"
   ]
  },
  {
   "cell_type": "code",
   "execution_count": 4,
   "metadata": {},
   "outputs": [
    {
     "name": "stdout",
     "output_type": "stream",
     "text": [
      "<class 'pandas.core.frame.DataFrame'>\n",
      "RangeIndex: 6366 entries, 0 to 6365\n",
      "Data columns (total 9 columns):\n",
      " #   Column           Non-Null Count  Dtype  \n",
      "---  ------           --------------  -----  \n",
      " 0   rate_marriage    6366 non-null   float64\n",
      " 1   age              6366 non-null   float64\n",
      " 2   yrs_married      6366 non-null   float64\n",
      " 3   children         6366 non-null   float64\n",
      " 4   religious        6366 non-null   float64\n",
      " 5   educ             6366 non-null   float64\n",
      " 6   occupation       6366 non-null   float64\n",
      " 7   occupation_husb  6366 non-null   float64\n",
      " 8   affairs          6366 non-null   float64\n",
      "dtypes: float64(9)\n",
      "memory usage: 447.7 KB\n"
     ]
    }
   ],
   "source": [
    "# Check the column data type and null value.\n",
    "dta.info()"
   ]
  },
  {
   "cell_type": "code",
   "execution_count": 5,
   "metadata": {},
   "outputs": [
    {
     "data": {
      "text/html": [
       "<div>\n",
       "<style scoped>\n",
       "    .dataframe tbody tr th:only-of-type {\n",
       "        vertical-align: middle;\n",
       "    }\n",
       "\n",
       "    .dataframe tbody tr th {\n",
       "        vertical-align: top;\n",
       "    }\n",
       "\n",
       "    .dataframe thead th {\n",
       "        text-align: right;\n",
       "    }\n",
       "</style>\n",
       "<table border=\"1\" class=\"dataframe\">\n",
       "  <thead>\n",
       "    <tr style=\"text-align: right;\">\n",
       "      <th></th>\n",
       "      <th>rate_marriage</th>\n",
       "      <th>age</th>\n",
       "      <th>yrs_married</th>\n",
       "      <th>children</th>\n",
       "      <th>religious</th>\n",
       "      <th>educ</th>\n",
       "      <th>occupation</th>\n",
       "      <th>occupation_husb</th>\n",
       "      <th>affairs</th>\n",
       "    </tr>\n",
       "  </thead>\n",
       "  <tbody>\n",
       "    <tr>\n",
       "      <th>count</th>\n",
       "      <td>6366.000000</td>\n",
       "      <td>6366.000000</td>\n",
       "      <td>6366.000000</td>\n",
       "      <td>6366.000000</td>\n",
       "      <td>6366.000000</td>\n",
       "      <td>6366.000000</td>\n",
       "      <td>6366.000000</td>\n",
       "      <td>6366.000000</td>\n",
       "      <td>6366.000000</td>\n",
       "    </tr>\n",
       "    <tr>\n",
       "      <th>mean</th>\n",
       "      <td>4.109645</td>\n",
       "      <td>29.082862</td>\n",
       "      <td>9.009425</td>\n",
       "      <td>1.396874</td>\n",
       "      <td>2.426170</td>\n",
       "      <td>14.209865</td>\n",
       "      <td>3.424128</td>\n",
       "      <td>3.850141</td>\n",
       "      <td>0.705374</td>\n",
       "    </tr>\n",
       "    <tr>\n",
       "      <th>std</th>\n",
       "      <td>0.961430</td>\n",
       "      <td>6.847882</td>\n",
       "      <td>7.280120</td>\n",
       "      <td>1.433471</td>\n",
       "      <td>0.878369</td>\n",
       "      <td>2.178003</td>\n",
       "      <td>0.942399</td>\n",
       "      <td>1.346435</td>\n",
       "      <td>2.203374</td>\n",
       "    </tr>\n",
       "    <tr>\n",
       "      <th>min</th>\n",
       "      <td>1.000000</td>\n",
       "      <td>17.500000</td>\n",
       "      <td>0.500000</td>\n",
       "      <td>0.000000</td>\n",
       "      <td>1.000000</td>\n",
       "      <td>9.000000</td>\n",
       "      <td>1.000000</td>\n",
       "      <td>1.000000</td>\n",
       "      <td>0.000000</td>\n",
       "    </tr>\n",
       "    <tr>\n",
       "      <th>25%</th>\n",
       "      <td>4.000000</td>\n",
       "      <td>22.000000</td>\n",
       "      <td>2.500000</td>\n",
       "      <td>0.000000</td>\n",
       "      <td>2.000000</td>\n",
       "      <td>12.000000</td>\n",
       "      <td>3.000000</td>\n",
       "      <td>3.000000</td>\n",
       "      <td>0.000000</td>\n",
       "    </tr>\n",
       "    <tr>\n",
       "      <th>50%</th>\n",
       "      <td>4.000000</td>\n",
       "      <td>27.000000</td>\n",
       "      <td>6.000000</td>\n",
       "      <td>1.000000</td>\n",
       "      <td>2.000000</td>\n",
       "      <td>14.000000</td>\n",
       "      <td>3.000000</td>\n",
       "      <td>4.000000</td>\n",
       "      <td>0.000000</td>\n",
       "    </tr>\n",
       "    <tr>\n",
       "      <th>75%</th>\n",
       "      <td>5.000000</td>\n",
       "      <td>32.000000</td>\n",
       "      <td>16.500000</td>\n",
       "      <td>2.000000</td>\n",
       "      <td>3.000000</td>\n",
       "      <td>16.000000</td>\n",
       "      <td>4.000000</td>\n",
       "      <td>5.000000</td>\n",
       "      <td>0.484848</td>\n",
       "    </tr>\n",
       "    <tr>\n",
       "      <th>max</th>\n",
       "      <td>5.000000</td>\n",
       "      <td>42.000000</td>\n",
       "      <td>23.000000</td>\n",
       "      <td>5.500000</td>\n",
       "      <td>4.000000</td>\n",
       "      <td>20.000000</td>\n",
       "      <td>6.000000</td>\n",
       "      <td>6.000000</td>\n",
       "      <td>57.599991</td>\n",
       "    </tr>\n",
       "  </tbody>\n",
       "</table>\n",
       "</div>"
      ],
      "text/plain": [
       "       rate_marriage          age  yrs_married     children    religious  \\\n",
       "count    6366.000000  6366.000000  6366.000000  6366.000000  6366.000000   \n",
       "mean        4.109645    29.082862     9.009425     1.396874     2.426170   \n",
       "std         0.961430     6.847882     7.280120     1.433471     0.878369   \n",
       "min         1.000000    17.500000     0.500000     0.000000     1.000000   \n",
       "25%         4.000000    22.000000     2.500000     0.000000     2.000000   \n",
       "50%         4.000000    27.000000     6.000000     1.000000     2.000000   \n",
       "75%         5.000000    32.000000    16.500000     2.000000     3.000000   \n",
       "max         5.000000    42.000000    23.000000     5.500000     4.000000   \n",
       "\n",
       "              educ   occupation  occupation_husb      affairs  \n",
       "count  6366.000000  6366.000000      6366.000000  6366.000000  \n",
       "mean     14.209865     3.424128         3.850141     0.705374  \n",
       "std       2.178003     0.942399         1.346435     2.203374  \n",
       "min       9.000000     1.000000         1.000000     0.000000  \n",
       "25%      12.000000     3.000000         3.000000     0.000000  \n",
       "50%      14.000000     3.000000         4.000000     0.000000  \n",
       "75%      16.000000     4.000000         5.000000     0.484848  \n",
       "max      20.000000     6.000000         6.000000    57.599991  "
      ]
     },
     "execution_count": 5,
     "metadata": {},
     "output_type": "execute_result"
    }
   ],
   "source": [
    "dta.describe()"
   ]
  },
  {
   "cell_type": "code",
   "execution_count": null,
   "metadata": {},
   "outputs": [],
   "source": []
  },
  {
   "cell_type": "markdown",
   "metadata": {},
   "source": [
    "## Data visualization & analysis on Raw Data"
   ]
  },
  {
   "cell_type": "markdown",
   "metadata": {},
   "source": [
    "#### Check wheather data is balanced or imbalanced?"
   ]
  },
  {
   "cell_type": "code",
   "execution_count": 6,
   "metadata": {},
   "outputs": [
    {
     "name": "stdout",
     "output_type": "stream",
     "text": [
      "Data size for the 0 value : (4313, 1)\n",
      "Data size for the 1 value : (2053, 1)\n"
     ]
    }
   ],
   "source": [
    "y = pd.DataFrame()\n",
    "#y[\"affairs\"] = dta[\"affairs\"].astype(int)\n",
    "y[\"affairs\"] = (dta.affairs>0).astype(int)\n",
    "print(\"Data size for the 0 value :\",y[y[\"affairs\"]==0].shape)\n",
    "print(\"Data size for the 1 value :\",y[y[\"affairs\"]==1].shape)"
   ]
  },
  {
   "cell_type": "code",
   "execution_count": 7,
   "metadata": {},
   "outputs": [
    {
     "name": "stderr",
     "output_type": "stream",
     "text": [
      "C:\\Users\\DineshNaik\\anaconda3\\envs\\envbik\\lib\\site-packages\\seaborn\\_decorators.py:43: FutureWarning: Pass the following variable as a keyword arg: x. From version 0.12, the only valid positional argument will be `data`, and passing other arguments without an explicit keyword will result in an error or misinterpretation.\n",
      "  FutureWarning\n"
     ]
    },
    {
     "data": {
      "image/png": "[encoded data removed]",
      "text/plain": [
       "<Figure size 1080x720 with 1 Axes>"
      ]
     },
     "metadata": {
      "needs_background": "light"
     },
     "output_type": "display_data"
    }
   ],
   "source": [
    "plt.figure(figsize=(15,10))\n",
    "sns.set_style(\"darkgrid\")\n",
    "sns.countplot(np.ravel(y))\n",
    "plt.yticks(range(0,5000,250))\n",
    "plt.show()"
   ]
  },
  {
   "cell_type": "markdown",
   "metadata": {},
   "source": [
    "#### As per the above figure, class 0 count is more than double the class 1 value. So we need to up sampling the balance the dataset."
   ]
  },
  {
   "cell_type": "code",
   "execution_count": 8,
   "metadata": {},
   "outputs": [
    {
     "name": "stdout",
     "output_type": "stream",
     "text": [
      "Data size for the 0 value : (4313, 9)\n",
      "Data size for the 1 value : (4313, 9)\n"
     ]
    }
   ],
   "source": [
    "from imblearn.over_sampling import RandomOverSampler\n",
    "rdm = RandomOverSampler()\n",
    "dta_res,y_res = rdm.fit_resample(X=dta.iloc[:,:-1], y=y)\n",
    "dta = pd.concat([dta_res,y_res],axis=1)\n",
    "print(\"Data size for the 0 value :\",dta[dta[\"affairs\"]==0].shape)\n",
    "print(\"Data size for the 1 value :\",dta[dta[\"affairs\"]==1].shape)"
   ]
  },
  {
   "cell_type": "code",
   "execution_count": 9,
   "metadata": {},
   "outputs": [
    {
     "data": {
      "text/html": [
       "<div>\n",
       "<style scoped>\n",
       "    .dataframe tbody tr th:only-of-type {\n",
       "        vertical-align: middle;\n",
       "    }\n",
       "\n",
       "    .dataframe tbody tr th {\n",
       "        vertical-align: top;\n",
       "    }\n",
       "\n",
       "    .dataframe thead th {\n",
       "        text-align: right;\n",
       "    }\n",
       "</style>\n",
       "<table border=\"1\" class=\"dataframe\">\n",
       "  <thead>\n",
       "    <tr style=\"text-align: right;\">\n",
       "      <th></th>\n",
       "      <th>rate_marriage</th>\n",
       "      <th>age</th>\n",
       "      <th>yrs_married</th>\n",
       "      <th>children</th>\n",
       "      <th>religious</th>\n",
       "      <th>educ</th>\n",
       "      <th>occupation</th>\n",
       "      <th>occupation_husb</th>\n",
       "    </tr>\n",
       "  </thead>\n",
       "  <tbody>\n",
       "    <tr>\n",
       "      <th>0</th>\n",
       "      <td>3.0</td>\n",
       "      <td>32.0</td>\n",
       "      <td>9.0</td>\n",
       "      <td>3.0</td>\n",
       "      <td>3.0</td>\n",
       "      <td>17.0</td>\n",
       "      <td>2.0</td>\n",
       "      <td>5.0</td>\n",
       "    </tr>\n",
       "    <tr>\n",
       "      <th>1</th>\n",
       "      <td>3.0</td>\n",
       "      <td>27.0</td>\n",
       "      <td>13.0</td>\n",
       "      <td>3.0</td>\n",
       "      <td>1.0</td>\n",
       "      <td>14.0</td>\n",
       "      <td>3.0</td>\n",
       "      <td>4.0</td>\n",
       "    </tr>\n",
       "    <tr>\n",
       "      <th>2</th>\n",
       "      <td>4.0</td>\n",
       "      <td>22.0</td>\n",
       "      <td>2.5</td>\n",
       "      <td>0.0</td>\n",
       "      <td>1.0</td>\n",
       "      <td>16.0</td>\n",
       "      <td>3.0</td>\n",
       "      <td>5.0</td>\n",
       "    </tr>\n",
       "    <tr>\n",
       "      <th>3</th>\n",
       "      <td>4.0</td>\n",
       "      <td>37.0</td>\n",
       "      <td>16.5</td>\n",
       "      <td>4.0</td>\n",
       "      <td>3.0</td>\n",
       "      <td>16.0</td>\n",
       "      <td>5.0</td>\n",
       "      <td>5.0</td>\n",
       "    </tr>\n",
       "    <tr>\n",
       "      <th>4</th>\n",
       "      <td>5.0</td>\n",
       "      <td>27.0</td>\n",
       "      <td>9.0</td>\n",
       "      <td>1.0</td>\n",
       "      <td>1.0</td>\n",
       "      <td>14.0</td>\n",
       "      <td>3.0</td>\n",
       "      <td>4.0</td>\n",
       "    </tr>\n",
       "    <tr>\n",
       "      <th>...</th>\n",
       "      <td>...</td>\n",
       "      <td>...</td>\n",
       "      <td>...</td>\n",
       "      <td>...</td>\n",
       "      <td>...</td>\n",
       "      <td>...</td>\n",
       "      <td>...</td>\n",
       "      <td>...</td>\n",
       "    </tr>\n",
       "    <tr>\n",
       "      <th>8621</th>\n",
       "      <td>3.0</td>\n",
       "      <td>27.0</td>\n",
       "      <td>6.0</td>\n",
       "      <td>1.0</td>\n",
       "      <td>2.0</td>\n",
       "      <td>12.0</td>\n",
       "      <td>3.0</td>\n",
       "      <td>4.0</td>\n",
       "    </tr>\n",
       "    <tr>\n",
       "      <th>8622</th>\n",
       "      <td>5.0</td>\n",
       "      <td>27.0</td>\n",
       "      <td>9.0</td>\n",
       "      <td>2.0</td>\n",
       "      <td>3.0</td>\n",
       "      <td>14.0</td>\n",
       "      <td>3.0</td>\n",
       "      <td>3.0</td>\n",
       "    </tr>\n",
       "    <tr>\n",
       "      <th>8623</th>\n",
       "      <td>4.0</td>\n",
       "      <td>42.0</td>\n",
       "      <td>13.0</td>\n",
       "      <td>0.0</td>\n",
       "      <td>1.0</td>\n",
       "      <td>14.0</td>\n",
       "      <td>5.0</td>\n",
       "      <td>5.0</td>\n",
       "    </tr>\n",
       "    <tr>\n",
       "      <th>8624</th>\n",
       "      <td>4.0</td>\n",
       "      <td>32.0</td>\n",
       "      <td>2.5</td>\n",
       "      <td>0.0</td>\n",
       "      <td>2.0</td>\n",
       "      <td>14.0</td>\n",
       "      <td>5.0</td>\n",
       "      <td>6.0</td>\n",
       "    </tr>\n",
       "    <tr>\n",
       "      <th>8625</th>\n",
       "      <td>5.0</td>\n",
       "      <td>27.0</td>\n",
       "      <td>6.0</td>\n",
       "      <td>1.0</td>\n",
       "      <td>1.0</td>\n",
       "      <td>17.0</td>\n",
       "      <td>4.0</td>\n",
       "      <td>5.0</td>\n",
       "    </tr>\n",
       "  </tbody>\n",
       "</table>\n",
       "<p>8626 rows × 8 columns</p>\n",
       "</div>"
      ],
      "text/plain": [
       "      rate_marriage   age  yrs_married  children  religious  educ  occupation  \\\n",
       "0               3.0  32.0          9.0       3.0        3.0  17.0         2.0   \n",
       "1               3.0  27.0         13.0       3.0        1.0  14.0         3.0   \n",
       "2               4.0  22.0          2.5       0.0        1.0  16.0         3.0   \n",
       "3               4.0  37.0         16.5       4.0        3.0  16.0         5.0   \n",
       "4               5.0  27.0          9.0       1.0        1.0  14.0         3.0   \n",
       "...             ...   ...          ...       ...        ...   ...         ...   \n",
       "8621            3.0  27.0          6.0       1.0        2.0  12.0         3.0   \n",
       "8622            5.0  27.0          9.0       2.0        3.0  14.0         3.0   \n",
       "8623            4.0  42.0         13.0       0.0        1.0  14.0         5.0   \n",
       "8624            4.0  32.0          2.5       0.0        2.0  14.0         5.0   \n",
       "8625            5.0  27.0          6.0       1.0        1.0  17.0         4.0   \n",
       "\n",
       "      occupation_husb  \n",
       "0                 5.0  \n",
       "1                 4.0  \n",
       "2                 5.0  \n",
       "3                 5.0  \n",
       "4                 4.0  \n",
       "...               ...  \n",
       "8621              4.0  \n",
       "8622              3.0  \n",
       "8623              5.0  \n",
       "8624              6.0  \n",
       "8625              5.0  \n",
       "\n",
       "[8626 rows x 8 columns]"
      ]
     },
     "execution_count": 9,
     "metadata": {},
     "output_type": "execute_result"
    }
   ],
   "source": [
    "dta.iloc[:,:-1]"
   ]
  },
  {
   "cell_type": "code",
   "execution_count": null,
   "metadata": {},
   "outputs": [],
   "source": []
  },
  {
   "cell_type": "code",
   "execution_count": 10,
   "metadata": {},
   "outputs": [
    {
     "data": {
      "image/png": "[encoded data removed]",
      "text/plain": [
       "<Figure size 1152x1080 with 9 Axes>"
      ]
     },
     "metadata": {},
     "output_type": "display_data"
    }
   ],
   "source": [
    "# Visualize the relationship between the features and the target using the scatter plot\n",
    "fig, axes = plt.subplots(3,3,figsize=(16,15))\n",
    "axe = axes.ravel()\n",
    "for i,col in enumerate(map_data.columns.tolist()):\n",
    "    map_data.plot(kind='scatter',x=col,y='affairs',ax=axe[i], title=col)\n",
    "    #axe[i].set_xticklabels(axe[i].get_xticks(),rotation=45)\n",
    "    axe[i].tick_params(axis='x',rotation=90)\n",
    "    #plt.yticks(rotation=45)\n",
    "    \n",
    "    # set the spacing between subplots\n",
    "plt.subplots_adjust(left=0.1,\n",
    "                    bottom=0.1, \n",
    "                    right=0.9, \n",
    "                    top=0.9, \n",
    "                    wspace=0.4, \n",
    "                    hspace=0.4) "
   ]
  },
  {
   "cell_type": "code",
   "execution_count": 11,
   "metadata": {},
   "outputs": [
    {
     "data": {
      "image/png": "[encoded data removed]",
      "text/plain": [
       "<Figure size 1152x1080 with 9 Axes>"
      ]
     },
     "metadata": {},
     "output_type": "display_data"
    }
   ],
   "source": [
    "# Visualize the visualize the distribution for all the feature\n",
    "fig, axes = plt.subplots(3,3,figsize=(16,15))\n",
    "axe = axes.ravel()\n",
    "for i,col in enumerate(dta.columns.tolist()):\n",
    "    dta[col].plot(kind='kde',x=col,ax=axe[i],title='Column Name - {}'.format(col))\n",
    "\n",
    "    # set the spacing between subplots\n",
    "plt.subplots_adjust(left=0.1,\n",
    "                    bottom=0.1, \n",
    "                    right=0.9, \n",
    "                    top=0.9, \n",
    "                    wspace=0.4, \n",
    "                    hspace=0.4)"
   ]
  },
  {
   "cell_type": "code",
   "execution_count": 12,
   "metadata": {},
   "outputs": [
    {
     "data": {
      "text/plain": [
       "<matplotlib.axes._subplots.AxesSubplot at 0x11f5bda5e80>"
      ]
     },
     "execution_count": 12,
     "metadata": {},
     "output_type": "execute_result"
    },
    {
     "data": {
      "image/png": "[encoded data removed]",
      "text/plain": [
       "<Figure size 1080x720 with 2 Axes>"
      ]
     },
     "metadata": {},
     "output_type": "display_data"
    }
   ],
   "source": [
    "import seaborn as sns\n",
    "plt.subplots(figsize=(15,10))\n",
    "# Data correlation between independent labels before multicolinearity resolution\n",
    "dta_cor = dta.corr().round(2)\n",
    "dta_cor\n",
    "# annot = True to print the values inside the square\n",
    "sns.heatmap(data=dta_cor, annot=True)"
   ]
  },
  {
   "cell_type": "code",
   "execution_count": 13,
   "metadata": {},
   "outputs": [],
   "source": [
    "# Calculate multicoliearity between data\n",
    "from statsmodels.stats.outliers_influence import variance_inflation_factor\n",
    "def calc_vif(data):\n",
    "    # we create a new data frame which will include all the VIFs\n",
    "    # note that each variable has its own variance inflation factor as this measure is variable specific (not model specific)\n",
    "    # we do not include categorical values for mulitcollinearity as they do not provide much information as numerical ones do\n",
    "    vif = pd.DataFrame()\n",
    "\n",
    "    # here we make use of the variance_inflation_factor, which will basically output the respective VIFs \n",
    "    vif[\"VIF\"] = [variance_inflation_factor(data.values, i) for i in range(data.shape[1])]\n",
    "    # Finally, I like to include names so it is easier to explore the result\n",
    "    vif[\"Features\"] = data.columns\n",
    "    return vif"
   ]
  },
  {
   "cell_type": "markdown",
   "metadata": {},
   "source": [
    "#### Get the multicolinearity before standardization"
   ]
  },
  {
   "cell_type": "code",
   "execution_count": 14,
   "metadata": {},
   "outputs": [
    {
     "data": {
      "text/html": [
       "<div>\n",
       "<style scoped>\n",
       "    .dataframe tbody tr th:only-of-type {\n",
       "        vertical-align: middle;\n",
       "    }\n",
       "\n",
       "    .dataframe tbody tr th {\n",
       "        vertical-align: top;\n",
       "    }\n",
       "\n",
       "    .dataframe thead th {\n",
       "        text-align: right;\n",
       "    }\n",
       "</style>\n",
       "<table border=\"1\" class=\"dataframe\">\n",
       "  <thead>\n",
       "    <tr style=\"text-align: right;\">\n",
       "      <th></th>\n",
       "      <th>VIF</th>\n",
       "      <th>Features</th>\n",
       "    </tr>\n",
       "  </thead>\n",
       "  <tbody>\n",
       "    <tr>\n",
       "      <th>0</th>\n",
       "      <td>15.049860</td>\n",
       "      <td>rate_marriage</td>\n",
       "    </tr>\n",
       "    <tr>\n",
       "      <th>1</th>\n",
       "      <td>76.502536</td>\n",
       "      <td>age</td>\n",
       "    </tr>\n",
       "    <tr>\n",
       "      <th>2</th>\n",
       "      <td>16.465620</td>\n",
       "      <td>yrs_married</td>\n",
       "    </tr>\n",
       "    <tr>\n",
       "      <th>3</th>\n",
       "      <td>5.001442</td>\n",
       "      <td>children</td>\n",
       "    </tr>\n",
       "    <tr>\n",
       "      <th>4</th>\n",
       "      <td>8.557900</td>\n",
       "      <td>religious</td>\n",
       "    </tr>\n",
       "    <tr>\n",
       "      <th>5</th>\n",
       "      <td>46.757169</td>\n",
       "      <td>educ</td>\n",
       "    </tr>\n",
       "    <tr>\n",
       "      <th>6</th>\n",
       "      <td>16.695070</td>\n",
       "      <td>occupation</td>\n",
       "    </tr>\n",
       "    <tr>\n",
       "      <th>7</th>\n",
       "      <td>9.928121</td>\n",
       "      <td>occupation_husb</td>\n",
       "    </tr>\n",
       "  </tbody>\n",
       "</table>\n",
       "</div>"
      ],
      "text/plain": [
       "         VIF         Features\n",
       "0  15.049860    rate_marriage\n",
       "1  76.502536              age\n",
       "2  16.465620      yrs_married\n",
       "3   5.001442         children\n",
       "4   8.557900        religious\n",
       "5  46.757169             educ\n",
       "6  16.695070       occupation\n",
       "7   9.928121  occupation_husb"
      ]
     },
     "execution_count": 14,
     "metadata": {},
     "output_type": "execute_result"
    }
   ],
   "source": [
    "vif = calc_vif(dta.drop([\"affairs\"],axis=1))\n",
    "vif"
   ]
  },
  {
   "cell_type": "code",
   "execution_count": 15,
   "metadata": {},
   "outputs": [
    {
     "data": {
      "text/html": [
       "<div>\n",
       "<style scoped>\n",
       "    .dataframe tbody tr th:only-of-type {\n",
       "        vertical-align: middle;\n",
       "    }\n",
       "\n",
       "    .dataframe tbody tr th {\n",
       "        vertical-align: top;\n",
       "    }\n",
       "\n",
       "    .dataframe thead th {\n",
       "        text-align: right;\n",
       "    }\n",
       "</style>\n",
       "<table border=\"1\" class=\"dataframe\">\n",
       "  <thead>\n",
       "    <tr style=\"text-align: right;\">\n",
       "      <th></th>\n",
       "      <th>VIF</th>\n",
       "      <th>Features</th>\n",
       "    </tr>\n",
       "  </thead>\n",
       "  <tbody>\n",
       "    <tr>\n",
       "      <th>0</th>\n",
       "      <td>6.599027</td>\n",
       "      <td>yrs_married</td>\n",
       "    </tr>\n",
       "    <tr>\n",
       "      <th>1</th>\n",
       "      <td>4.995788</td>\n",
       "      <td>children</td>\n",
       "    </tr>\n",
       "    <tr>\n",
       "      <th>2</th>\n",
       "      <td>6.561192</td>\n",
       "      <td>religious</td>\n",
       "    </tr>\n",
       "    <tr>\n",
       "      <th>3</th>\n",
       "      <td>9.621654</td>\n",
       "      <td>occupation</td>\n",
       "    </tr>\n",
       "    <tr>\n",
       "      <th>4</th>\n",
       "      <td>8.086791</td>\n",
       "      <td>occupation_husb</td>\n",
       "    </tr>\n",
       "  </tbody>\n",
       "</table>\n",
       "</div>"
      ],
      "text/plain": [
       "        VIF         Features\n",
       "0  6.599027      yrs_married\n",
       "1  4.995788         children\n",
       "2  6.561192        religious\n",
       "3  9.621654       occupation\n",
       "4  8.086791  occupation_husb"
      ]
     },
     "execution_count": 15,
     "metadata": {},
     "output_type": "execute_result"
    }
   ],
   "source": [
    "vif = calc_vif(dta.drop([\"affairs\",\"educ\",\"age\",\"rate_marriage\"],axis=1))\n",
    "vif"
   ]
  },
  {
   "cell_type": "markdown",
   "metadata": {},
   "source": [
    "#### Standandardise dataset"
   ]
  },
  {
   "cell_type": "code",
   "execution_count": 16,
   "metadata": {},
   "outputs": [
    {
     "data": {
      "text/html": [
       "<div>\n",
       "<style scoped>\n",
       "    .dataframe tbody tr th:only-of-type {\n",
       "        vertical-align: middle;\n",
       "    }\n",
       "\n",
       "    .dataframe tbody tr th {\n",
       "        vertical-align: top;\n",
       "    }\n",
       "\n",
       "    .dataframe thead th {\n",
       "        text-align: right;\n",
       "    }\n",
       "</style>\n",
       "<table border=\"1\" class=\"dataframe\">\n",
       "  <thead>\n",
       "    <tr style=\"text-align: right;\">\n",
       "      <th></th>\n",
       "      <th>rate_marriage</th>\n",
       "      <th>age</th>\n",
       "      <th>yrs_married</th>\n",
       "      <th>children</th>\n",
       "      <th>religious</th>\n",
       "      <th>educ</th>\n",
       "      <th>occupation</th>\n",
       "      <th>occupation_husb</th>\n",
       "    </tr>\n",
       "  </thead>\n",
       "  <tbody>\n",
       "    <tr>\n",
       "      <th>0</th>\n",
       "      <td>-0.982750</td>\n",
       "      <td>0.364727</td>\n",
       "      <td>-0.084506</td>\n",
       "      <td>1.051300</td>\n",
       "      <td>0.700801</td>\n",
       "      <td>1.322686</td>\n",
       "      <td>-1.510810</td>\n",
       "      <td>0.857189</td>\n",
       "    </tr>\n",
       "    <tr>\n",
       "      <th>1</th>\n",
       "      <td>-0.982750</td>\n",
       "      <td>-0.365066</td>\n",
       "      <td>0.461832</td>\n",
       "      <td>1.051300</td>\n",
       "      <td>-1.594230</td>\n",
       "      <td>-0.064936</td>\n",
       "      <td>-0.457529</td>\n",
       "      <td>0.111439</td>\n",
       "    </tr>\n",
       "    <tr>\n",
       "      <th>2</th>\n",
       "      <td>0.007115</td>\n",
       "      <td>-1.094858</td>\n",
       "      <td>-0.972306</td>\n",
       "      <td>-1.038139</td>\n",
       "      <td>-1.594230</td>\n",
       "      <td>0.860145</td>\n",
       "      <td>-0.457529</td>\n",
       "      <td>0.857189</td>\n",
       "    </tr>\n",
       "    <tr>\n",
       "      <th>3</th>\n",
       "      <td>0.007115</td>\n",
       "      <td>1.094520</td>\n",
       "      <td>0.939878</td>\n",
       "      <td>1.747780</td>\n",
       "      <td>0.700801</td>\n",
       "      <td>0.860145</td>\n",
       "      <td>1.649034</td>\n",
       "      <td>0.857189</td>\n",
       "    </tr>\n",
       "    <tr>\n",
       "      <th>4</th>\n",
       "      <td>0.996979</td>\n",
       "      <td>-0.365066</td>\n",
       "      <td>-0.084506</td>\n",
       "      <td>-0.341659</td>\n",
       "      <td>-1.594230</td>\n",
       "      <td>-0.064936</td>\n",
       "      <td>-0.457529</td>\n",
       "      <td>0.111439</td>\n",
       "    </tr>\n",
       "    <tr>\n",
       "      <th>...</th>\n",
       "      <td>...</td>\n",
       "      <td>...</td>\n",
       "      <td>...</td>\n",
       "      <td>...</td>\n",
       "      <td>...</td>\n",
       "      <td>...</td>\n",
       "      <td>...</td>\n",
       "      <td>...</td>\n",
       "    </tr>\n",
       "    <tr>\n",
       "      <th>8621</th>\n",
       "      <td>-0.982750</td>\n",
       "      <td>-0.365066</td>\n",
       "      <td>-0.494260</td>\n",
       "      <td>-0.341659</td>\n",
       "      <td>-0.446714</td>\n",
       "      <td>-0.990017</td>\n",
       "      <td>-0.457529</td>\n",
       "      <td>0.111439</td>\n",
       "    </tr>\n",
       "    <tr>\n",
       "      <th>8622</th>\n",
       "      <td>0.996979</td>\n",
       "      <td>-0.365066</td>\n",
       "      <td>-0.084506</td>\n",
       "      <td>0.354820</td>\n",
       "      <td>0.700801</td>\n",
       "      <td>-0.064936</td>\n",
       "      <td>-0.457529</td>\n",
       "      <td>-0.634311</td>\n",
       "    </tr>\n",
       "    <tr>\n",
       "      <th>8623</th>\n",
       "      <td>0.007115</td>\n",
       "      <td>1.824313</td>\n",
       "      <td>0.461832</td>\n",
       "      <td>-1.038139</td>\n",
       "      <td>-1.594230</td>\n",
       "      <td>-0.064936</td>\n",
       "      <td>1.649034</td>\n",
       "      <td>0.857189</td>\n",
       "    </tr>\n",
       "    <tr>\n",
       "      <th>8624</th>\n",
       "      <td>0.007115</td>\n",
       "      <td>0.364727</td>\n",
       "      <td>-0.972306</td>\n",
       "      <td>-1.038139</td>\n",
       "      <td>-0.446714</td>\n",
       "      <td>-0.064936</td>\n",
       "      <td>1.649034</td>\n",
       "      <td>1.602940</td>\n",
       "    </tr>\n",
       "    <tr>\n",
       "      <th>8625</th>\n",
       "      <td>0.996979</td>\n",
       "      <td>-0.365066</td>\n",
       "      <td>-0.494260</td>\n",
       "      <td>-0.341659</td>\n",
       "      <td>-1.594230</td>\n",
       "      <td>1.322686</td>\n",
       "      <td>0.595752</td>\n",
       "      <td>0.857189</td>\n",
       "    </tr>\n",
       "  </tbody>\n",
       "</table>\n",
       "<p>8626 rows × 8 columns</p>\n",
       "</div>"
      ],
      "text/plain": [
       "      rate_marriage       age  yrs_married  children  religious      educ  \\\n",
       "0         -0.982750  0.364727    -0.084506  1.051300   0.700801  1.322686   \n",
       "1         -0.982750 -0.365066     0.461832  1.051300  -1.594230 -0.064936   \n",
       "2          0.007115 -1.094858    -0.972306 -1.038139  -1.594230  0.860145   \n",
       "3          0.007115  1.094520     0.939878  1.747780   0.700801  0.860145   \n",
       "4          0.996979 -0.365066    -0.084506 -0.341659  -1.594230 -0.064936   \n",
       "...             ...       ...          ...       ...        ...       ...   \n",
       "8621      -0.982750 -0.365066    -0.494260 -0.341659  -0.446714 -0.990017   \n",
       "8622       0.996979 -0.365066    -0.084506  0.354820   0.700801 -0.064936   \n",
       "8623       0.007115  1.824313     0.461832 -1.038139  -1.594230 -0.064936   \n",
       "8624       0.007115  0.364727    -0.972306 -1.038139  -0.446714 -0.064936   \n",
       "8625       0.996979 -0.365066    -0.494260 -0.341659  -1.594230  1.322686   \n",
       "\n",
       "      occupation  occupation_husb  \n",
       "0      -1.510810         0.857189  \n",
       "1      -0.457529         0.111439  \n",
       "2      -0.457529         0.857189  \n",
       "3       1.649034         0.857189  \n",
       "4      -0.457529         0.111439  \n",
       "...          ...              ...  \n",
       "8621   -0.457529         0.111439  \n",
       "8622   -0.457529        -0.634311  \n",
       "8623    1.649034         0.857189  \n",
       "8624    1.649034         1.602940  \n",
       "8625    0.595752         0.857189  \n",
       "\n",
       "[8626 rows x 8 columns]"
      ]
     },
     "execution_count": 16,
     "metadata": {},
     "output_type": "execute_result"
    }
   ],
   "source": [
    "import scipy.stats as stats\n",
    "\n",
    "std_dta = pd.DataFrame()\n",
    "for i,col in enumerate(dta.drop([\"affairs\"],axis=1).columns.tolist()):\n",
    "    zc = stats.zscore(dta[col])\n",
    "    std_dta[col]= zc\n",
    "    \n",
    "std_dta    "
   ]
  },
  {
   "cell_type": "markdown",
   "metadata": {},
   "source": [
    "#### Get the multicolinearity after standardization"
   ]
  },
  {
   "cell_type": "code",
   "execution_count": 17,
   "metadata": {},
   "outputs": [
    {
     "data": {
      "text/html": [
       "<div>\n",
       "<style scoped>\n",
       "    .dataframe tbody tr th:only-of-type {\n",
       "        vertical-align: middle;\n",
       "    }\n",
       "\n",
       "    .dataframe tbody tr th {\n",
       "        vertical-align: top;\n",
       "    }\n",
       "\n",
       "    .dataframe thead th {\n",
       "        text-align: right;\n",
       "    }\n",
       "</style>\n",
       "<table border=\"1\" class=\"dataframe\">\n",
       "  <thead>\n",
       "    <tr style=\"text-align: right;\">\n",
       "      <th></th>\n",
       "      <th>VIF</th>\n",
       "      <th>Features</th>\n",
       "    </tr>\n",
       "  </thead>\n",
       "  <tbody>\n",
       "    <tr>\n",
       "      <th>0</th>\n",
       "      <td>1.036662</td>\n",
       "      <td>rate_marriage</td>\n",
       "    </tr>\n",
       "    <tr>\n",
       "      <th>1</th>\n",
       "      <td>5.540126</td>\n",
       "      <td>age</td>\n",
       "    </tr>\n",
       "    <tr>\n",
       "      <th>2</th>\n",
       "      <td>7.206129</td>\n",
       "      <td>yrs_married</td>\n",
       "    </tr>\n",
       "    <tr>\n",
       "      <th>3</th>\n",
       "      <td>2.434448</td>\n",
       "      <td>children</td>\n",
       "    </tr>\n",
       "    <tr>\n",
       "      <th>4</th>\n",
       "      <td>1.038922</td>\n",
       "      <td>religious</td>\n",
       "    </tr>\n",
       "    <tr>\n",
       "      <th>5</th>\n",
       "      <td>1.278939</td>\n",
       "      <td>educ</td>\n",
       "    </tr>\n",
       "    <tr>\n",
       "      <th>6</th>\n",
       "      <td>1.191335</td>\n",
       "      <td>occupation</td>\n",
       "    </tr>\n",
       "    <tr>\n",
       "      <th>7</th>\n",
       "      <td>1.083512</td>\n",
       "      <td>occupation_husb</td>\n",
       "    </tr>\n",
       "  </tbody>\n",
       "</table>\n",
       "</div>"
      ],
      "text/plain": [
       "        VIF         Features\n",
       "0  1.036662    rate_marriage\n",
       "1  5.540126              age\n",
       "2  7.206129      yrs_married\n",
       "3  2.434448         children\n",
       "4  1.038922        religious\n",
       "5  1.278939             educ\n",
       "6  1.191335       occupation\n",
       "7  1.083512  occupation_husb"
      ]
     },
     "execution_count": 17,
     "metadata": {},
     "output_type": "execute_result"
    }
   ],
   "source": [
    "vif = calc_vif(std_dta)\n",
    "vif"
   ]
  },
  {
   "cell_type": "code",
   "execution_count": 18,
   "metadata": {},
   "outputs": [
    {
     "data": {
      "text/html": [
       "<div>\n",
       "<style scoped>\n",
       "    .dataframe tbody tr th:only-of-type {\n",
       "        vertical-align: middle;\n",
       "    }\n",
       "\n",
       "    .dataframe tbody tr th {\n",
       "        vertical-align: top;\n",
       "    }\n",
       "\n",
       "    .dataframe thead th {\n",
       "        text-align: right;\n",
       "    }\n",
       "</style>\n",
       "<table border=\"1\" class=\"dataframe\">\n",
       "  <thead>\n",
       "    <tr style=\"text-align: right;\">\n",
       "      <th></th>\n",
       "      <th>VIF</th>\n",
       "      <th>Features</th>\n",
       "    </tr>\n",
       "  </thead>\n",
       "  <tbody>\n",
       "    <tr>\n",
       "      <th>0</th>\n",
       "      <td>1.036306</td>\n",
       "      <td>rate_marriage</td>\n",
       "    </tr>\n",
       "    <tr>\n",
       "      <th>1</th>\n",
       "      <td>1.873306</td>\n",
       "      <td>age</td>\n",
       "    </tr>\n",
       "    <tr>\n",
       "      <th>2</th>\n",
       "      <td>1.888469</td>\n",
       "      <td>children</td>\n",
       "    </tr>\n",
       "    <tr>\n",
       "      <th>3</th>\n",
       "      <td>1.038883</td>\n",
       "      <td>religious</td>\n",
       "    </tr>\n",
       "    <tr>\n",
       "      <th>4</th>\n",
       "      <td>1.221316</td>\n",
       "      <td>educ</td>\n",
       "    </tr>\n",
       "    <tr>\n",
       "      <th>5</th>\n",
       "      <td>1.190933</td>\n",
       "      <td>occupation</td>\n",
       "    </tr>\n",
       "    <tr>\n",
       "      <th>6</th>\n",
       "      <td>1.083396</td>\n",
       "      <td>occupation_husb</td>\n",
       "    </tr>\n",
       "  </tbody>\n",
       "</table>\n",
       "</div>"
      ],
      "text/plain": [
       "        VIF         Features\n",
       "0  1.036306    rate_marriage\n",
       "1  1.873306              age\n",
       "2  1.888469         children\n",
       "3  1.038883        religious\n",
       "4  1.221316             educ\n",
       "5  1.190933       occupation\n",
       "6  1.083396  occupation_husb"
      ]
     },
     "execution_count": 18,
     "metadata": {},
     "output_type": "execute_result"
    }
   ],
   "source": [
    "vif = calc_vif(std_dta.drop(\"yrs_married\",axis=1))\n",
    "vif"
   ]
  },
  {
   "cell_type": "code",
   "execution_count": 19,
   "metadata": {},
   "outputs": [
    {
     "data": {
      "image/png": "[encoded data removed]",
      "text/plain": [
       "<Figure size 1152x1080 with 9 Axes>"
      ]
     },
     "metadata": {},
     "output_type": "display_data"
    }
   ],
   "source": [
    "# Visualize the visualize the distribution for all the feature\n",
    "fig, axes = plt.subplots(3,3,figsize=(16,15))\n",
    "axe = axes.ravel()\n",
    "for i,col in enumerate(std_dta.columns.tolist()):\n",
    "    std_dta[col].plot(kind='kde',x=col,ax=axe[i],title='Column Name - {}'.format(col))\n",
    "\n",
    "    # set the spacing between subplots\n",
    "plt.subplots_adjust(left=0.1,\n",
    "                    bottom=0.1, \n",
    "                    right=0.9, \n",
    "                    top=0.9, \n",
    "                    wspace=0.4, \n",
    "                    hspace=0.4)"
   ]
  },
  {
   "cell_type": "markdown",
   "metadata": {},
   "source": [
    "### Split the data into Train and Test"
   ]
  },
  {
   "cell_type": "code",
   "execution_count": 20,
   "metadata": {},
   "outputs": [
    {
     "data": {
      "text/html": [
       "<div>\n",
       "<style scoped>\n",
       "    .dataframe tbody tr th:only-of-type {\n",
       "        vertical-align: middle;\n",
       "    }\n",
       "\n",
       "    .dataframe tbody tr th {\n",
       "        vertical-align: top;\n",
       "    }\n",
       "\n",
       "    .dataframe thead th {\n",
       "        text-align: right;\n",
       "    }\n",
       "</style>\n",
       "<table border=\"1\" class=\"dataframe\">\n",
       "  <thead>\n",
       "    <tr style=\"text-align: right;\">\n",
       "      <th></th>\n",
       "      <th>rate_marriage</th>\n",
       "      <th>age</th>\n",
       "      <th>children</th>\n",
       "      <th>religious</th>\n",
       "      <th>educ</th>\n",
       "      <th>occupation</th>\n",
       "      <th>occupation_husb</th>\n",
       "    </tr>\n",
       "  </thead>\n",
       "  <tbody>\n",
       "    <tr>\n",
       "      <th>8333</th>\n",
       "      <td>0.996979</td>\n",
       "      <td>1.824313</td>\n",
       "      <td>1.051300</td>\n",
       "      <td>0.700801</td>\n",
       "      <td>-0.990017</td>\n",
       "      <td>-0.457529</td>\n",
       "      <td>0.857189</td>\n",
       "    </tr>\n",
       "    <tr>\n",
       "      <th>7355</th>\n",
       "      <td>0.007115</td>\n",
       "      <td>1.824313</td>\n",
       "      <td>0.354820</td>\n",
       "      <td>-0.446714</td>\n",
       "      <td>-0.990017</td>\n",
       "      <td>-0.457529</td>\n",
       "      <td>-0.634311</td>\n",
       "    </tr>\n",
       "    <tr>\n",
       "      <th>7792</th>\n",
       "      <td>0.007115</td>\n",
       "      <td>-0.365066</td>\n",
       "      <td>1.051300</td>\n",
       "      <td>0.700801</td>\n",
       "      <td>0.860145</td>\n",
       "      <td>-0.457529</td>\n",
       "      <td>-1.380062</td>\n",
       "    </tr>\n",
       "    <tr>\n",
       "      <th>2210</th>\n",
       "      <td>0.996979</td>\n",
       "      <td>-0.365066</td>\n",
       "      <td>0.354820</td>\n",
       "      <td>-0.446714</td>\n",
       "      <td>-0.064936</td>\n",
       "      <td>-1.510810</td>\n",
       "      <td>-1.380062</td>\n",
       "    </tr>\n",
       "    <tr>\n",
       "      <th>264</th>\n",
       "      <td>-0.982750</td>\n",
       "      <td>0.364727</td>\n",
       "      <td>1.051300</td>\n",
       "      <td>-0.446714</td>\n",
       "      <td>-0.990017</td>\n",
       "      <td>-0.457529</td>\n",
       "      <td>-1.380062</td>\n",
       "    </tr>\n",
       "    <tr>\n",
       "      <th>...</th>\n",
       "      <td>...</td>\n",
       "      <td>...</td>\n",
       "      <td>...</td>\n",
       "      <td>...</td>\n",
       "      <td>...</td>\n",
       "      <td>...</td>\n",
       "      <td>...</td>\n",
       "    </tr>\n",
       "    <tr>\n",
       "      <th>5046</th>\n",
       "      <td>0.996979</td>\n",
       "      <td>-0.365066</td>\n",
       "      <td>0.354820</td>\n",
       "      <td>-1.594230</td>\n",
       "      <td>-0.064936</td>\n",
       "      <td>1.649034</td>\n",
       "      <td>0.857189</td>\n",
       "    </tr>\n",
       "    <tr>\n",
       "      <th>2932</th>\n",
       "      <td>0.996979</td>\n",
       "      <td>1.824313</td>\n",
       "      <td>0.354820</td>\n",
       "      <td>0.700801</td>\n",
       "      <td>-0.990017</td>\n",
       "      <td>1.649034</td>\n",
       "      <td>0.111439</td>\n",
       "    </tr>\n",
       "    <tr>\n",
       "      <th>5161</th>\n",
       "      <td>0.007115</td>\n",
       "      <td>1.824313</td>\n",
       "      <td>1.747780</td>\n",
       "      <td>1.848317</td>\n",
       "      <td>-0.064936</td>\n",
       "      <td>-0.457529</td>\n",
       "      <td>0.111439</td>\n",
       "    </tr>\n",
       "    <tr>\n",
       "      <th>2373</th>\n",
       "      <td>0.996979</td>\n",
       "      <td>-1.094858</td>\n",
       "      <td>-1.038139</td>\n",
       "      <td>-0.446714</td>\n",
       "      <td>-0.990017</td>\n",
       "      <td>-1.510810</td>\n",
       "      <td>-1.380062</td>\n",
       "    </tr>\n",
       "    <tr>\n",
       "      <th>2497</th>\n",
       "      <td>0.996979</td>\n",
       "      <td>-0.365066</td>\n",
       "      <td>0.354820</td>\n",
       "      <td>0.700801</td>\n",
       "      <td>1.322686</td>\n",
       "      <td>0.595752</td>\n",
       "      <td>-2.125812</td>\n",
       "    </tr>\n",
       "  </tbody>\n",
       "</table>\n",
       "<p>2157 rows × 7 columns</p>\n",
       "</div>"
      ],
      "text/plain": [
       "      rate_marriage       age  children  religious      educ  occupation  \\\n",
       "8333       0.996979  1.824313  1.051300   0.700801 -0.990017   -0.457529   \n",
       "7355       0.007115  1.824313  0.354820  -0.446714 -0.990017   -0.457529   \n",
       "7792       0.007115 -0.365066  1.051300   0.700801  0.860145   -0.457529   \n",
       "2210       0.996979 -0.365066  0.354820  -0.446714 -0.064936   -1.510810   \n",
       "264       -0.982750  0.364727  1.051300  -0.446714 -0.990017   -0.457529   \n",
       "...             ...       ...       ...        ...       ...         ...   \n",
       "5046       0.996979 -0.365066  0.354820  -1.594230 -0.064936    1.649034   \n",
       "2932       0.996979  1.824313  0.354820   0.700801 -0.990017    1.649034   \n",
       "5161       0.007115  1.824313  1.747780   1.848317 -0.064936   -0.457529   \n",
       "2373       0.996979 -1.094858 -1.038139  -0.446714 -0.990017   -1.510810   \n",
       "2497       0.996979 -0.365066  0.354820   0.700801  1.322686    0.595752   \n",
       "\n",
       "      occupation_husb  \n",
       "8333         0.857189  \n",
       "7355        -0.634311  \n",
       "7792        -1.380062  \n",
       "2210        -1.380062  \n",
       "264         -1.380062  \n",
       "...               ...  \n",
       "5046         0.857189  \n",
       "2932         0.111439  \n",
       "5161         0.111439  \n",
       "2373        -1.380062  \n",
       "2497        -2.125812  \n",
       "\n",
       "[2157 rows x 7 columns]"
      ]
     },
     "execution_count": 20,
     "metadata": {},
     "output_type": "execute_result"
    }
   ],
   "source": [
    "y = pd.DataFrame()\n",
    "#y[\"affairs\"] = dta[\"affairs\"].astype(int)\n",
    "y[\"affairs\"] = (dta.affairs>0).astype(int)\n",
    "x_train, x_test, y_train, y_test = train_test_split(std_dta[[\"rate_marriage\",\"age\",\"children\",\"religious\",\"educ\",\"occupation\",\"occupation_husb\"]], y, test_size=0.25, random_state=355)\n",
    "x_test"
   ]
  },
  {
   "cell_type": "code",
   "execution_count": 21,
   "metadata": {},
   "outputs": [
    {
     "name": "stderr",
     "output_type": "stream",
     "text": [
      "C:\\Users\\DineshNaik\\anaconda3\\envs\\envbik\\lib\\site-packages\\sklearn\\utils\\validation.py:63: DataConversionWarning: A column-vector y was passed when a 1d array was expected. Please change the shape of y to (n_samples, ), for example using ravel().\n",
      "  return f(*args, **kwargs)\n"
     ]
    },
    {
     "data": {
      "text/plain": [
       "LogisticRegression()"
      ]
     },
     "execution_count": 21,
     "metadata": {},
     "output_type": "execute_result"
    }
   ],
   "source": [
    "# Apply logistic regression model in dataset\n",
    "log_reg = LogisticRegression()\n",
    "log_reg.fit(x_train,y_train)"
   ]
  },
  {
   "cell_type": "code",
   "execution_count": 22,
   "metadata": {},
   "outputs": [
    {
     "data": {
      "text/plain": [
       "array([0, 0, 1, ..., 0, 0, 1])"
      ]
     },
     "execution_count": 22,
     "metadata": {},
     "output_type": "execute_result"
    }
   ],
   "source": [
    "y_pred = log_reg.predict(x_train)\n",
    "y_pred"
   ]
  },
  {
   "cell_type": "code",
   "execution_count": 23,
   "metadata": {},
   "outputs": [
    {
     "data": {
      "text/plain": [
       "0.6690369454320606"
      ]
     },
     "execution_count": 23,
     "metadata": {},
     "output_type": "execute_result"
    }
   ],
   "source": [
    "# Accuracy check for train dataset\n",
    "accuracy = accuracy_score(y_train,y_pred)\n",
    "accuracy"
   ]
  },
  {
   "cell_type": "code",
   "execution_count": 24,
   "metadata": {},
   "outputs": [
    {
     "data": {
      "text/plain": [
       "array([[2267,  975],\n",
       "       [1166, 2061]], dtype=int64)"
      ]
     },
     "execution_count": 24,
     "metadata": {},
     "output_type": "execute_result"
    }
   ],
   "source": [
    "# Confusion matrix\n",
    "conf_mat = confusion_matrix(y_train,y_pred)\n",
    "conf_mat"
   ]
  },
  {
   "cell_type": "code",
   "execution_count": 25,
   "metadata": {},
   "outputs": [
    {
     "data": {
      "text/plain": [
       "0.6689667034794904"
      ]
     },
     "execution_count": 25,
     "metadata": {},
     "output_type": "execute_result"
    }
   ],
   "source": [
    "# area under the curve for train data\n",
    "auc_roc = roc_auc_score(y_train,y_pred)\n",
    "auc_roc"
   ]
  },
  {
   "cell_type": "markdown",
   "metadata": {},
   "source": [
    "#### ROC"
   ]
  },
  {
   "cell_type": "code",
   "execution_count": 26,
   "metadata": {},
   "outputs": [],
   "source": [
    "fpr, tpr, thresholds = roc_curve(y_train, y_pred)"
   ]
  },
  {
   "cell_type": "code",
   "execution_count": 27,
   "metadata": {},
   "outputs": [
    {
     "data": {
      "image/png": "[encoded data removed]",
      "text/plain": [
       "<Figure size 432x288 with 1 Axes>"
      ]
     },
     "metadata": {},
     "output_type": "display_data"
    }
   ],
   "source": [
    "plt.plot(fpr, tpr, color='orange', label='ROC')\n",
    "plt.plot([0, 1], [0, 1], color='darkblue', linestyle='--',label='ROC curve (area = %0.2f)' % auc_roc)\n",
    "plt.xlabel('False Positive Rate')\n",
    "plt.ylabel('True Positive Rate')\n",
    "plt.title('Receiver Operating Characteristic (ROC) Curve')\n",
    "plt.legend()\n",
    "plt.show()"
   ]
  },
  {
   "cell_type": "code",
   "execution_count": 28,
   "metadata": {},
   "outputs": [
    {
     "data": {
      "text/plain": [
       "array([0, 1, 0, ..., 1, 0, 0])"
      ]
     },
     "execution_count": 28,
     "metadata": {},
     "output_type": "execute_result"
    }
   ],
   "source": [
    "y_pred = log_reg.predict(x_test)\n",
    "y_pred"
   ]
  },
  {
   "cell_type": "code",
   "execution_count": 29,
   "metadata": {},
   "outputs": [
    {
     "data": {
      "text/plain": [
       "0.6703755215577191"
      ]
     },
     "execution_count": 29,
     "metadata": {},
     "output_type": "execute_result"
    }
   ],
   "source": [
    "# Accuracy check for test dataset\n",
    "accuracy = accuracy_score(y_test,y_pred)\n",
    "accuracy"
   ]
  },
  {
   "cell_type": "code",
   "execution_count": 30,
   "metadata": {},
   "outputs": [
    {
     "data": {
      "text/plain": [
       "array([[740, 331],\n",
       "       [380, 706]], dtype=int64)"
      ]
     },
     "execution_count": 30,
     "metadata": {},
     "output_type": "execute_result"
    }
   ],
   "source": [
    "# Confusion matrix\n",
    "conf_mat = confusion_matrix(y_test,y_pred)\n",
    "conf_mat"
   ]
  },
  {
   "cell_type": "code",
   "execution_count": 31,
   "metadata": {},
   "outputs": [
    {
     "data": {
      "text/plain": [
       "0.670517562457764"
      ]
     },
     "execution_count": 31,
     "metadata": {},
     "output_type": "execute_result"
    }
   ],
   "source": [
    "# area under the curve for train data\n",
    "auc_roc = roc_auc_score(y_test,y_pred)\n",
    "auc_roc"
   ]
  },
  {
   "cell_type": "markdown",
   "metadata": {},
   "source": [
    "#### ROC "
   ]
  },
  {
   "cell_type": "code",
   "execution_count": 32,
   "metadata": {},
   "outputs": [],
   "source": [
    "fpr, tpr, thresholds = roc_curve(y_test, y_pred)"
   ]
  },
  {
   "cell_type": "code",
   "execution_count": 33,
   "metadata": {},
   "outputs": [
    {
     "data": {
      "image/png": "[encoded data removed]",
      "text/plain": [
       "<Figure size 432x288 with 1 Axes>"
      ]
     },
     "metadata": {},
     "output_type": "display_data"
    }
   ],
   "source": [
    "plt.plot(fpr, tpr, color='orange', label='ROC')\n",
    "plt.plot([0, 1], [0, 1], color='darkblue', linestyle='--',label='ROC curve (area = %0.2f)' % auc_roc)\n",
    "plt.xlabel('False Positive Rate')\n",
    "plt.ylabel('True Positive Rate')\n",
    "plt.title('Receiver Operating Characteristic (ROC) Curve')\n",
    "plt.legend()\n",
    "plt.show()"
   ]
  },
  {
   "cell_type": "code",
   "execution_count": 34,
   "metadata": {},
   "outputs": [],
   "source": [
    "tp = conf_mat[0][0]\n",
    "fp = conf_mat[0][1]\n",
    "fn = conf_mat[1][0]\n",
    "tn = conf_mat[1][1]"
   ]
  },
  {
   "cell_type": "code",
   "execution_count": 35,
   "metadata": {},
   "outputs": [
    {
     "data": {
      "text/plain": [
       "0.6703755215577191"
      ]
     },
     "execution_count": 35,
     "metadata": {},
     "output_type": "execute_result"
    }
   ],
   "source": [
    "# Breaking down the formula for the accuracy\n",
    "accuracy = (tp+tn)/(tp+fp+fn+tn)\n",
    "accuracy"
   ]
  },
  {
   "cell_type": "code",
   "execution_count": 36,
   "metadata": {},
   "outputs": [
    {
     "data": {
      "text/plain": [
       "0.6909430438842203"
      ]
     },
     "execution_count": 36,
     "metadata": {},
     "output_type": "execute_result"
    }
   ],
   "source": [
    "# Precision\n",
    "pre = tp/(tp+fp)\n",
    "pre"
   ]
  },
  {
   "cell_type": "code",
   "execution_count": 37,
   "metadata": {},
   "outputs": [
    {
     "data": {
      "text/plain": [
       "0.6607142857142857"
      ]
     },
     "execution_count": 37,
     "metadata": {},
     "output_type": "execute_result"
    }
   ],
   "source": [
    "# Recall\n",
    "rec = tp/(tp+fn)\n",
    "rec"
   ]
  },
  {
   "cell_type": "code",
   "execution_count": 38,
   "metadata": {},
   "outputs": [
    {
     "data": {
      "text/plain": [
       "0.6754906435417617"
      ]
     },
     "execution_count": 38,
     "metadata": {},
     "output_type": "execute_result"
    }
   ],
   "source": [
    "# F1 Score\n",
    "f1_score = 2*(rec*pre)/(rec+pre)\n",
    "f1_score"
   ]
  },
  {
   "cell_type": "markdown",
   "metadata": {},
   "source": [
    "### Model calculation after label encoding."
   ]
  },
  {
   "cell_type": "code",
   "execution_count": 39,
   "metadata": {},
   "outputs": [],
   "source": [
    "y, X = dmatrices('affairs ~ rate_marriage + age + yrs_married + children + religious + educ + C(occupation) + C(occupation_husb)',dta, return_type=\"dataframe\")"
   ]
  },
  {
   "cell_type": "code",
   "execution_count": 40,
   "metadata": {},
   "outputs": [],
   "source": [
    "X = X.rename(columns =\n",
    "{'C(occupation)[T.2.0]':'occ_2',\n",
    "'C(occupation)[T.3.0]':'occ_3',\n",
    "'C(occupation)[T.4.0]':'occ_4',\n",
    "'C(occupation)[T.5.0]':'occ_5',\n",
    "'C(occupation)[T.6.0]':'occ_6',\n",
    "'C(occupation_husb)[T.2.0]':'occ_husb_2',\n",
    "'C(occupation_husb)[T.3.0]':'occ_husb_3',\n",
    "'C(occupation_husb)[T.4.0]':'occ_husb_4',\n",
    "'C(occupation_husb)[T.5.0]':'occ_husb_5',\n",
    "'C(occupation_husb)[T.6.0]':'occ_husb_6'})"
   ]
  },
  {
   "cell_type": "code",
   "execution_count": 41,
   "metadata": {},
   "outputs": [
    {
     "name": "stdout",
     "output_type": "stream",
     "text": [
      "Data size for the 0 value : (4313, 18)\n",
      "Data size for the 1 value : (4313, 18)\n"
     ]
    }
   ],
   "source": [
    "# Up sampling the dataset\n",
    "from imblearn.over_sampling import RandomOverSampler\n",
    "rdm = RandomOverSampler()\n",
    "X_res,y_res = rdm.fit_resample(X=X, y=y)\n",
    "X = pd.concat([X_res,y_res],axis=1)\n",
    "print(\"Data size for the 0 value :\",X[X[\"affairs\"]==0].shape)\n",
    "print(\"Data size for the 1 value :\",X[X[\"affairs\"]==1].shape)"
   ]
  },
  {
   "cell_type": "code",
   "execution_count": 42,
   "metadata": {},
   "outputs": [],
   "source": [
    "y = np.ravel(X[\"affairs\"])"
   ]
  },
  {
   "cell_type": "code",
   "execution_count": 43,
   "metadata": {},
   "outputs": [
    {
     "data": {
      "text/html": [
       "<div>\n",
       "<style scoped>\n",
       "    .dataframe tbody tr th:only-of-type {\n",
       "        vertical-align: middle;\n",
       "    }\n",
       "\n",
       "    .dataframe tbody tr th {\n",
       "        vertical-align: top;\n",
       "    }\n",
       "\n",
       "    .dataframe thead th {\n",
       "        text-align: right;\n",
       "    }\n",
       "</style>\n",
       "<table border=\"1\" class=\"dataframe\">\n",
       "  <thead>\n",
       "    <tr style=\"text-align: right;\">\n",
       "      <th></th>\n",
       "      <th>Intercept</th>\n",
       "      <th>occ_2</th>\n",
       "      <th>occ_3</th>\n",
       "      <th>occ_4</th>\n",
       "      <th>occ_5</th>\n",
       "      <th>occ_6</th>\n",
       "      <th>occ_husb_2</th>\n",
       "      <th>occ_husb_3</th>\n",
       "      <th>occ_husb_4</th>\n",
       "      <th>occ_husb_5</th>\n",
       "      <th>occ_husb_6</th>\n",
       "      <th>rate_marriage</th>\n",
       "      <th>age</th>\n",
       "      <th>yrs_married</th>\n",
       "      <th>children</th>\n",
       "      <th>religious</th>\n",
       "      <th>educ</th>\n",
       "      <th>affairs</th>\n",
       "    </tr>\n",
       "  </thead>\n",
       "  <tbody>\n",
       "    <tr>\n",
       "      <th>0</th>\n",
       "      <td>1.0</td>\n",
       "      <td>1.0</td>\n",
       "      <td>0.0</td>\n",
       "      <td>0.0</td>\n",
       "      <td>0.0</td>\n",
       "      <td>0.0</td>\n",
       "      <td>0.0</td>\n",
       "      <td>0.0</td>\n",
       "      <td>0.0</td>\n",
       "      <td>1.0</td>\n",
       "      <td>0.0</td>\n",
       "      <td>3.0</td>\n",
       "      <td>32.0</td>\n",
       "      <td>9.0</td>\n",
       "      <td>3.0</td>\n",
       "      <td>3.0</td>\n",
       "      <td>17.0</td>\n",
       "      <td>1.0</td>\n",
       "    </tr>\n",
       "    <tr>\n",
       "      <th>1</th>\n",
       "      <td>1.0</td>\n",
       "      <td>0.0</td>\n",
       "      <td>1.0</td>\n",
       "      <td>0.0</td>\n",
       "      <td>0.0</td>\n",
       "      <td>0.0</td>\n",
       "      <td>0.0</td>\n",
       "      <td>0.0</td>\n",
       "      <td>1.0</td>\n",
       "      <td>0.0</td>\n",
       "      <td>0.0</td>\n",
       "      <td>3.0</td>\n",
       "      <td>27.0</td>\n",
       "      <td>13.0</td>\n",
       "      <td>3.0</td>\n",
       "      <td>1.0</td>\n",
       "      <td>14.0</td>\n",
       "      <td>1.0</td>\n",
       "    </tr>\n",
       "    <tr>\n",
       "      <th>2</th>\n",
       "      <td>1.0</td>\n",
       "      <td>0.0</td>\n",
       "      <td>1.0</td>\n",
       "      <td>0.0</td>\n",
       "      <td>0.0</td>\n",
       "      <td>0.0</td>\n",
       "      <td>0.0</td>\n",
       "      <td>0.0</td>\n",
       "      <td>0.0</td>\n",
       "      <td>1.0</td>\n",
       "      <td>0.0</td>\n",
       "      <td>4.0</td>\n",
       "      <td>22.0</td>\n",
       "      <td>2.5</td>\n",
       "      <td>0.0</td>\n",
       "      <td>1.0</td>\n",
       "      <td>16.0</td>\n",
       "      <td>1.0</td>\n",
       "    </tr>\n",
       "    <tr>\n",
       "      <th>3</th>\n",
       "      <td>1.0</td>\n",
       "      <td>0.0</td>\n",
       "      <td>0.0</td>\n",
       "      <td>0.0</td>\n",
       "      <td>1.0</td>\n",
       "      <td>0.0</td>\n",
       "      <td>0.0</td>\n",
       "      <td>0.0</td>\n",
       "      <td>0.0</td>\n",
       "      <td>1.0</td>\n",
       "      <td>0.0</td>\n",
       "      <td>4.0</td>\n",
       "      <td>37.0</td>\n",
       "      <td>16.5</td>\n",
       "      <td>4.0</td>\n",
       "      <td>3.0</td>\n",
       "      <td>16.0</td>\n",
       "      <td>1.0</td>\n",
       "    </tr>\n",
       "    <tr>\n",
       "      <th>4</th>\n",
       "      <td>1.0</td>\n",
       "      <td>0.0</td>\n",
       "      <td>1.0</td>\n",
       "      <td>0.0</td>\n",
       "      <td>0.0</td>\n",
       "      <td>0.0</td>\n",
       "      <td>0.0</td>\n",
       "      <td>0.0</td>\n",
       "      <td>1.0</td>\n",
       "      <td>0.0</td>\n",
       "      <td>0.0</td>\n",
       "      <td>5.0</td>\n",
       "      <td>27.0</td>\n",
       "      <td>9.0</td>\n",
       "      <td>1.0</td>\n",
       "      <td>1.0</td>\n",
       "      <td>14.0</td>\n",
       "      <td>1.0</td>\n",
       "    </tr>\n",
       "    <tr>\n",
       "      <th>...</th>\n",
       "      <td>...</td>\n",
       "      <td>...</td>\n",
       "      <td>...</td>\n",
       "      <td>...</td>\n",
       "      <td>...</td>\n",
       "      <td>...</td>\n",
       "      <td>...</td>\n",
       "      <td>...</td>\n",
       "      <td>...</td>\n",
       "      <td>...</td>\n",
       "      <td>...</td>\n",
       "      <td>...</td>\n",
       "      <td>...</td>\n",
       "      <td>...</td>\n",
       "      <td>...</td>\n",
       "      <td>...</td>\n",
       "      <td>...</td>\n",
       "      <td>...</td>\n",
       "    </tr>\n",
       "    <tr>\n",
       "      <th>8621</th>\n",
       "      <td>1.0</td>\n",
       "      <td>0.0</td>\n",
       "      <td>1.0</td>\n",
       "      <td>0.0</td>\n",
       "      <td>0.0</td>\n",
       "      <td>0.0</td>\n",
       "      <td>0.0</td>\n",
       "      <td>0.0</td>\n",
       "      <td>1.0</td>\n",
       "      <td>0.0</td>\n",
       "      <td>0.0</td>\n",
       "      <td>3.0</td>\n",
       "      <td>27.0</td>\n",
       "      <td>6.0</td>\n",
       "      <td>1.0</td>\n",
       "      <td>2.0</td>\n",
       "      <td>12.0</td>\n",
       "      <td>1.0</td>\n",
       "    </tr>\n",
       "    <tr>\n",
       "      <th>8622</th>\n",
       "      <td>1.0</td>\n",
       "      <td>0.0</td>\n",
       "      <td>1.0</td>\n",
       "      <td>0.0</td>\n",
       "      <td>0.0</td>\n",
       "      <td>0.0</td>\n",
       "      <td>0.0</td>\n",
       "      <td>1.0</td>\n",
       "      <td>0.0</td>\n",
       "      <td>0.0</td>\n",
       "      <td>0.0</td>\n",
       "      <td>5.0</td>\n",
       "      <td>27.0</td>\n",
       "      <td>9.0</td>\n",
       "      <td>2.0</td>\n",
       "      <td>3.0</td>\n",
       "      <td>14.0</td>\n",
       "      <td>1.0</td>\n",
       "    </tr>\n",
       "    <tr>\n",
       "      <th>8623</th>\n",
       "      <td>1.0</td>\n",
       "      <td>0.0</td>\n",
       "      <td>0.0</td>\n",
       "      <td>0.0</td>\n",
       "      <td>1.0</td>\n",
       "      <td>0.0</td>\n",
       "      <td>0.0</td>\n",
       "      <td>0.0</td>\n",
       "      <td>0.0</td>\n",
       "      <td>1.0</td>\n",
       "      <td>0.0</td>\n",
       "      <td>4.0</td>\n",
       "      <td>42.0</td>\n",
       "      <td>13.0</td>\n",
       "      <td>0.0</td>\n",
       "      <td>1.0</td>\n",
       "      <td>14.0</td>\n",
       "      <td>1.0</td>\n",
       "    </tr>\n",
       "    <tr>\n",
       "      <th>8624</th>\n",
       "      <td>1.0</td>\n",
       "      <td>0.0</td>\n",
       "      <td>0.0</td>\n",
       "      <td>0.0</td>\n",
       "      <td>1.0</td>\n",
       "      <td>0.0</td>\n",
       "      <td>0.0</td>\n",
       "      <td>0.0</td>\n",
       "      <td>0.0</td>\n",
       "      <td>0.0</td>\n",
       "      <td>1.0</td>\n",
       "      <td>4.0</td>\n",
       "      <td>32.0</td>\n",
       "      <td>2.5</td>\n",
       "      <td>0.0</td>\n",
       "      <td>2.0</td>\n",
       "      <td>14.0</td>\n",
       "      <td>1.0</td>\n",
       "    </tr>\n",
       "    <tr>\n",
       "      <th>8625</th>\n",
       "      <td>1.0</td>\n",
       "      <td>0.0</td>\n",
       "      <td>0.0</td>\n",
       "      <td>1.0</td>\n",
       "      <td>0.0</td>\n",
       "      <td>0.0</td>\n",
       "      <td>0.0</td>\n",
       "      <td>0.0</td>\n",
       "      <td>0.0</td>\n",
       "      <td>1.0</td>\n",
       "      <td>0.0</td>\n",
       "      <td>5.0</td>\n",
       "      <td>27.0</td>\n",
       "      <td>6.0</td>\n",
       "      <td>1.0</td>\n",
       "      <td>1.0</td>\n",
       "      <td>17.0</td>\n",
       "      <td>1.0</td>\n",
       "    </tr>\n",
       "  </tbody>\n",
       "</table>\n",
       "<p>8626 rows × 18 columns</p>\n",
       "</div>"
      ],
      "text/plain": [
       "      Intercept  occ_2  occ_3  occ_4  occ_5  occ_6  occ_husb_2  occ_husb_3  \\\n",
       "0           1.0    1.0    0.0    0.0    0.0    0.0         0.0         0.0   \n",
       "1           1.0    0.0    1.0    0.0    0.0    0.0         0.0         0.0   \n",
       "2           1.0    0.0    1.0    0.0    0.0    0.0         0.0         0.0   \n",
       "3           1.0    0.0    0.0    0.0    1.0    0.0         0.0         0.0   \n",
       "4           1.0    0.0    1.0    0.0    0.0    0.0         0.0         0.0   \n",
       "...         ...    ...    ...    ...    ...    ...         ...         ...   \n",
       "8621        1.0    0.0    1.0    0.0    0.0    0.0         0.0         0.0   \n",
       "8622        1.0    0.0    1.0    0.0    0.0    0.0         0.0         1.0   \n",
       "8623        1.0    0.0    0.0    0.0    1.0    0.0         0.0         0.0   \n",
       "8624        1.0    0.0    0.0    0.0    1.0    0.0         0.0         0.0   \n",
       "8625        1.0    0.0    0.0    1.0    0.0    0.0         0.0         0.0   \n",
       "\n",
       "      occ_husb_4  occ_husb_5  occ_husb_6  rate_marriage   age  yrs_married  \\\n",
       "0            0.0         1.0         0.0            3.0  32.0          9.0   \n",
       "1            1.0         0.0         0.0            3.0  27.0         13.0   \n",
       "2            0.0         1.0         0.0            4.0  22.0          2.5   \n",
       "3            0.0         1.0         0.0            4.0  37.0         16.5   \n",
       "4            1.0         0.0         0.0            5.0  27.0          9.0   \n",
       "...          ...         ...         ...            ...   ...          ...   \n",
       "8621         1.0         0.0         0.0            3.0  27.0          6.0   \n",
       "8622         0.0         0.0         0.0            5.0  27.0          9.0   \n",
       "8623         0.0         1.0         0.0            4.0  42.0         13.0   \n",
       "8624         0.0         0.0         1.0            4.0  32.0          2.5   \n",
       "8625         0.0         1.0         0.0            5.0  27.0          6.0   \n",
       "\n",
       "      children  religious  educ  affairs  \n",
       "0          3.0        3.0  17.0      1.0  \n",
       "1          3.0        1.0  14.0      1.0  \n",
       "2          0.0        1.0  16.0      1.0  \n",
       "3          4.0        3.0  16.0      1.0  \n",
       "4          1.0        1.0  14.0      1.0  \n",
       "...        ...        ...   ...      ...  \n",
       "8621       1.0        2.0  12.0      1.0  \n",
       "8622       2.0        3.0  14.0      1.0  \n",
       "8623       0.0        1.0  14.0      1.0  \n",
       "8624       0.0        2.0  14.0      1.0  \n",
       "8625       1.0        1.0  17.0      1.0  \n",
       "\n",
       "[8626 rows x 18 columns]"
      ]
     },
     "execution_count": 43,
     "metadata": {},
     "output_type": "execute_result"
    }
   ],
   "source": [
    "X"
   ]
  },
  {
   "cell_type": "code",
   "execution_count": 44,
   "metadata": {},
   "outputs": [
    {
     "name": "stderr",
     "output_type": "stream",
     "text": [
      "C:\\Users\\DineshNaik\\anaconda3\\envs\\envbik\\lib\\site-packages\\scipy\\stats\\stats.py:2500: RuntimeWarning: invalid value encountered in true_divide\n",
      "  return (a - mns) / sstd\n"
     ]
    },
    {
     "data": {
      "text/html": [
       "<div>\n",
       "<style scoped>\n",
       "    .dataframe tbody tr th:only-of-type {\n",
       "        vertical-align: middle;\n",
       "    }\n",
       "\n",
       "    .dataframe tbody tr th {\n",
       "        vertical-align: top;\n",
       "    }\n",
       "\n",
       "    .dataframe thead th {\n",
       "        text-align: right;\n",
       "    }\n",
       "</style>\n",
       "<table border=\"1\" class=\"dataframe\">\n",
       "  <thead>\n",
       "    <tr style=\"text-align: right;\">\n",
       "      <th></th>\n",
       "      <th>occ_2</th>\n",
       "      <th>occ_3</th>\n",
       "      <th>occ_4</th>\n",
       "      <th>occ_5</th>\n",
       "      <th>occ_6</th>\n",
       "      <th>occ_husb_2</th>\n",
       "      <th>occ_husb_3</th>\n",
       "      <th>occ_husb_4</th>\n",
       "      <th>occ_husb_5</th>\n",
       "      <th>occ_husb_6</th>\n",
       "      <th>rate_marriage</th>\n",
       "      <th>age</th>\n",
       "      <th>yrs_married</th>\n",
       "      <th>children</th>\n",
       "      <th>religious</th>\n",
       "      <th>educ</th>\n",
       "    </tr>\n",
       "  </thead>\n",
       "  <tbody>\n",
       "    <tr>\n",
       "      <th>0</th>\n",
       "      <td>2.556096</td>\n",
       "      <td>-0.896786</td>\n",
       "      <td>-0.61317</td>\n",
       "      <td>-0.377714</td>\n",
       "      <td>-0.136155</td>\n",
       "      <td>-0.515137</td>\n",
       "      <td>-0.290899</td>\n",
       "      <td>-0.678273</td>\n",
       "      <td>1.592246</td>\n",
       "      <td>-0.298105</td>\n",
       "      <td>-0.982750</td>\n",
       "      <td>0.364727</td>\n",
       "      <td>-0.084506</td>\n",
       "      <td>1.051300</td>\n",
       "      <td>0.700801</td>\n",
       "      <td>1.322686</td>\n",
       "    </tr>\n",
       "    <tr>\n",
       "      <th>1</th>\n",
       "      <td>-0.391222</td>\n",
       "      <td>1.115093</td>\n",
       "      <td>-0.61317</td>\n",
       "      <td>-0.377714</td>\n",
       "      <td>-0.136155</td>\n",
       "      <td>-0.515137</td>\n",
       "      <td>-0.290899</td>\n",
       "      <td>1.474333</td>\n",
       "      <td>-0.628044</td>\n",
       "      <td>-0.298105</td>\n",
       "      <td>-0.982750</td>\n",
       "      <td>-0.365066</td>\n",
       "      <td>0.461832</td>\n",
       "      <td>1.051300</td>\n",
       "      <td>-1.594230</td>\n",
       "      <td>-0.064936</td>\n",
       "    </tr>\n",
       "    <tr>\n",
       "      <th>2</th>\n",
       "      <td>-0.391222</td>\n",
       "      <td>1.115093</td>\n",
       "      <td>-0.61317</td>\n",
       "      <td>-0.377714</td>\n",
       "      <td>-0.136155</td>\n",
       "      <td>-0.515137</td>\n",
       "      <td>-0.290899</td>\n",
       "      <td>-0.678273</td>\n",
       "      <td>1.592246</td>\n",
       "      <td>-0.298105</td>\n",
       "      <td>0.007115</td>\n",
       "      <td>-1.094858</td>\n",
       "      <td>-0.972306</td>\n",
       "      <td>-1.038139</td>\n",
       "      <td>-1.594230</td>\n",
       "      <td>0.860145</td>\n",
       "    </tr>\n",
       "    <tr>\n",
       "      <th>3</th>\n",
       "      <td>-0.391222</td>\n",
       "      <td>-0.896786</td>\n",
       "      <td>-0.61317</td>\n",
       "      <td>2.647505</td>\n",
       "      <td>-0.136155</td>\n",
       "      <td>-0.515137</td>\n",
       "      <td>-0.290899</td>\n",
       "      <td>-0.678273</td>\n",
       "      <td>1.592246</td>\n",
       "      <td>-0.298105</td>\n",
       "      <td>0.007115</td>\n",
       "      <td>1.094520</td>\n",
       "      <td>0.939878</td>\n",
       "      <td>1.747780</td>\n",
       "      <td>0.700801</td>\n",
       "      <td>0.860145</td>\n",
       "    </tr>\n",
       "    <tr>\n",
       "      <th>4</th>\n",
       "      <td>-0.391222</td>\n",
       "      <td>1.115093</td>\n",
       "      <td>-0.61317</td>\n",
       "      <td>-0.377714</td>\n",
       "      <td>-0.136155</td>\n",
       "      <td>-0.515137</td>\n",
       "      <td>-0.290899</td>\n",
       "      <td>1.474333</td>\n",
       "      <td>-0.628044</td>\n",
       "      <td>-0.298105</td>\n",
       "      <td>0.996979</td>\n",
       "      <td>-0.365066</td>\n",
       "      <td>-0.084506</td>\n",
       "      <td>-0.341659</td>\n",
       "      <td>-1.594230</td>\n",
       "      <td>-0.064936</td>\n",
       "    </tr>\n",
       "    <tr>\n",
       "      <th>...</th>\n",
       "      <td>...</td>\n",
       "      <td>...</td>\n",
       "      <td>...</td>\n",
       "      <td>...</td>\n",
       "      <td>...</td>\n",
       "      <td>...</td>\n",
       "      <td>...</td>\n",
       "      <td>...</td>\n",
       "      <td>...</td>\n",
       "      <td>...</td>\n",
       "      <td>...</td>\n",
       "      <td>...</td>\n",
       "      <td>...</td>\n",
       "      <td>...</td>\n",
       "      <td>...</td>\n",
       "      <td>...</td>\n",
       "    </tr>\n",
       "    <tr>\n",
       "      <th>8621</th>\n",
       "      <td>-0.391222</td>\n",
       "      <td>1.115093</td>\n",
       "      <td>-0.61317</td>\n",
       "      <td>-0.377714</td>\n",
       "      <td>-0.136155</td>\n",
       "      <td>-0.515137</td>\n",
       "      <td>-0.290899</td>\n",
       "      <td>1.474333</td>\n",
       "      <td>-0.628044</td>\n",
       "      <td>-0.298105</td>\n",
       "      <td>-0.982750</td>\n",
       "      <td>-0.365066</td>\n",
       "      <td>-0.494260</td>\n",
       "      <td>-0.341659</td>\n",
       "      <td>-0.446714</td>\n",
       "      <td>-0.990017</td>\n",
       "    </tr>\n",
       "    <tr>\n",
       "      <th>8622</th>\n",
       "      <td>-0.391222</td>\n",
       "      <td>1.115093</td>\n",
       "      <td>-0.61317</td>\n",
       "      <td>-0.377714</td>\n",
       "      <td>-0.136155</td>\n",
       "      <td>-0.515137</td>\n",
       "      <td>3.437621</td>\n",
       "      <td>-0.678273</td>\n",
       "      <td>-0.628044</td>\n",
       "      <td>-0.298105</td>\n",
       "      <td>0.996979</td>\n",
       "      <td>-0.365066</td>\n",
       "      <td>-0.084506</td>\n",
       "      <td>0.354820</td>\n",
       "      <td>0.700801</td>\n",
       "      <td>-0.064936</td>\n",
       "    </tr>\n",
       "    <tr>\n",
       "      <th>8623</th>\n",
       "      <td>-0.391222</td>\n",
       "      <td>-0.896786</td>\n",
       "      <td>-0.61317</td>\n",
       "      <td>2.647505</td>\n",
       "      <td>-0.136155</td>\n",
       "      <td>-0.515137</td>\n",
       "      <td>-0.290899</td>\n",
       "      <td>-0.678273</td>\n",
       "      <td>1.592246</td>\n",
       "      <td>-0.298105</td>\n",
       "      <td>0.007115</td>\n",
       "      <td>1.824313</td>\n",
       "      <td>0.461832</td>\n",
       "      <td>-1.038139</td>\n",
       "      <td>-1.594230</td>\n",
       "      <td>-0.064936</td>\n",
       "    </tr>\n",
       "    <tr>\n",
       "      <th>8624</th>\n",
       "      <td>-0.391222</td>\n",
       "      <td>-0.896786</td>\n",
       "      <td>-0.61317</td>\n",
       "      <td>2.647505</td>\n",
       "      <td>-0.136155</td>\n",
       "      <td>-0.515137</td>\n",
       "      <td>-0.290899</td>\n",
       "      <td>-0.678273</td>\n",
       "      <td>-0.628044</td>\n",
       "      <td>3.354525</td>\n",
       "      <td>0.007115</td>\n",
       "      <td>0.364727</td>\n",
       "      <td>-0.972306</td>\n",
       "      <td>-1.038139</td>\n",
       "      <td>-0.446714</td>\n",
       "      <td>-0.064936</td>\n",
       "    </tr>\n",
       "    <tr>\n",
       "      <th>8625</th>\n",
       "      <td>-0.391222</td>\n",
       "      <td>-0.896786</td>\n",
       "      <td>1.63087</td>\n",
       "      <td>-0.377714</td>\n",
       "      <td>-0.136155</td>\n",
       "      <td>-0.515137</td>\n",
       "      <td>-0.290899</td>\n",
       "      <td>-0.678273</td>\n",
       "      <td>1.592246</td>\n",
       "      <td>-0.298105</td>\n",
       "      <td>0.996979</td>\n",
       "      <td>-0.365066</td>\n",
       "      <td>-0.494260</td>\n",
       "      <td>-0.341659</td>\n",
       "      <td>-1.594230</td>\n",
       "      <td>1.322686</td>\n",
       "    </tr>\n",
       "  </tbody>\n",
       "</table>\n",
       "<p>8626 rows × 16 columns</p>\n",
       "</div>"
      ],
      "text/plain": [
       "         occ_2     occ_3    occ_4     occ_5     occ_6  occ_husb_2  occ_husb_3  \\\n",
       "0     2.556096 -0.896786 -0.61317 -0.377714 -0.136155   -0.515137   -0.290899   \n",
       "1    -0.391222  1.115093 -0.61317 -0.377714 -0.136155   -0.515137   -0.290899   \n",
       "2    -0.391222  1.115093 -0.61317 -0.377714 -0.136155   -0.515137   -0.290899   \n",
       "3    -0.391222 -0.896786 -0.61317  2.647505 -0.136155   -0.515137   -0.290899   \n",
       "4    -0.391222  1.115093 -0.61317 -0.377714 -0.136155   -0.515137   -0.290899   \n",
       "...        ...       ...      ...       ...       ...         ...         ...   \n",
       "8621 -0.391222  1.115093 -0.61317 -0.377714 -0.136155   -0.515137   -0.290899   \n",
       "8622 -0.391222  1.115093 -0.61317 -0.377714 -0.136155   -0.515137    3.437621   \n",
       "8623 -0.391222 -0.896786 -0.61317  2.647505 -0.136155   -0.515137   -0.290899   \n",
       "8624 -0.391222 -0.896786 -0.61317  2.647505 -0.136155   -0.515137   -0.290899   \n",
       "8625 -0.391222 -0.896786  1.63087 -0.377714 -0.136155   -0.515137   -0.290899   \n",
       "\n",
       "      occ_husb_4  occ_husb_5  occ_husb_6  rate_marriage       age  \\\n",
       "0      -0.678273    1.592246   -0.298105      -0.982750  0.364727   \n",
       "1       1.474333   -0.628044   -0.298105      -0.982750 -0.365066   \n",
       "2      -0.678273    1.592246   -0.298105       0.007115 -1.094858   \n",
       "3      -0.678273    1.592246   -0.298105       0.007115  1.094520   \n",
       "4       1.474333   -0.628044   -0.298105       0.996979 -0.365066   \n",
       "...          ...         ...         ...            ...       ...   \n",
       "8621    1.474333   -0.628044   -0.298105      -0.982750 -0.365066   \n",
       "8622   -0.678273   -0.628044   -0.298105       0.996979 -0.365066   \n",
       "8623   -0.678273    1.592246   -0.298105       0.007115  1.824313   \n",
       "8624   -0.678273   -0.628044    3.354525       0.007115  0.364727   \n",
       "8625   -0.678273    1.592246   -0.298105       0.996979 -0.365066   \n",
       "\n",
       "      yrs_married  children  religious      educ  \n",
       "0       -0.084506  1.051300   0.700801  1.322686  \n",
       "1        0.461832  1.051300  -1.594230 -0.064936  \n",
       "2       -0.972306 -1.038139  -1.594230  0.860145  \n",
       "3        0.939878  1.747780   0.700801  0.860145  \n",
       "4       -0.084506 -0.341659  -1.594230 -0.064936  \n",
       "...           ...       ...        ...       ...  \n",
       "8621    -0.494260 -0.341659  -0.446714 -0.990017  \n",
       "8622    -0.084506  0.354820   0.700801 -0.064936  \n",
       "8623     0.461832 -1.038139  -1.594230 -0.064936  \n",
       "8624    -0.972306 -1.038139  -0.446714 -0.064936  \n",
       "8625    -0.494260 -0.341659  -1.594230  1.322686  \n",
       "\n",
       "[8626 rows x 16 columns]"
      ]
     },
     "execution_count": 44,
     "metadata": {},
     "output_type": "execute_result"
    }
   ],
   "source": [
    "# Apply Z-Score on datasets\n",
    "for i,col in enumerate(X.drop([\"affairs\"],axis=1).columns.tolist()):\n",
    "    zc = stats.zscore(X[col])\n",
    "    X[col]=zc\n",
    "X.drop([\"affairs\",\"Intercept\"],axis=1,inplace=True)\n",
    "X"
   ]
  },
  {
   "cell_type": "code",
   "execution_count": 45,
   "metadata": {},
   "outputs": [
    {
     "data": {
      "text/html": [
       "<div>\n",
       "<style scoped>\n",
       "    .dataframe tbody tr th:only-of-type {\n",
       "        vertical-align: middle;\n",
       "    }\n",
       "\n",
       "    .dataframe tbody tr th {\n",
       "        vertical-align: top;\n",
       "    }\n",
       "\n",
       "    .dataframe thead th {\n",
       "        text-align: right;\n",
       "    }\n",
       "</style>\n",
       "<table border=\"1\" class=\"dataframe\">\n",
       "  <thead>\n",
       "    <tr style=\"text-align: right;\">\n",
       "      <th></th>\n",
       "      <th>affairs</th>\n",
       "    </tr>\n",
       "  </thead>\n",
       "  <tbody>\n",
       "    <tr>\n",
       "      <th>5155</th>\n",
       "      <td>0</td>\n",
       "    </tr>\n",
       "    <tr>\n",
       "      <th>1497</th>\n",
       "      <td>1</td>\n",
       "    </tr>\n",
       "    <tr>\n",
       "      <th>6913</th>\n",
       "      <td>1</td>\n",
       "    </tr>\n",
       "    <tr>\n",
       "      <th>8346</th>\n",
       "      <td>1</td>\n",
       "    </tr>\n",
       "    <tr>\n",
       "      <th>3714</th>\n",
       "      <td>0</td>\n",
       "    </tr>\n",
       "    <tr>\n",
       "      <th>...</th>\n",
       "      <td>...</td>\n",
       "    </tr>\n",
       "    <tr>\n",
       "      <th>3985</th>\n",
       "      <td>0</td>\n",
       "    </tr>\n",
       "    <tr>\n",
       "      <th>7459</th>\n",
       "      <td>1</td>\n",
       "    </tr>\n",
       "    <tr>\n",
       "      <th>7669</th>\n",
       "      <td>1</td>\n",
       "    </tr>\n",
       "    <tr>\n",
       "      <th>2690</th>\n",
       "      <td>0</td>\n",
       "    </tr>\n",
       "    <tr>\n",
       "      <th>6910</th>\n",
       "      <td>1</td>\n",
       "    </tr>\n",
       "  </tbody>\n",
       "</table>\n",
       "<p>6469 rows × 1 columns</p>\n",
       "</div>"
      ],
      "text/plain": [
       "      affairs\n",
       "5155        0\n",
       "1497        1\n",
       "6913        1\n",
       "8346        1\n",
       "3714        0\n",
       "...       ...\n",
       "3985        0\n",
       "7459        1\n",
       "7669        1\n",
       "2690        0\n",
       "6910        1\n",
       "\n",
       "[6469 rows x 1 columns]"
      ]
     },
     "execution_count": 45,
     "metadata": {},
     "output_type": "execute_result"
    }
   ],
   "source": [
    "y = pd.DataFrame()\n",
    "#y[\"affairs\"] = dta[\"affairs\"].astype(int)\n",
    "y[\"affairs\"] = (dta.affairs>0).astype(int)\n",
    "x_train, x_test, y_train, y_test = train_test_split(X, y, test_size=0.25, random_state=355)\n",
    "y_train"
   ]
  },
  {
   "cell_type": "code",
   "execution_count": 46,
   "metadata": {},
   "outputs": [
    {
     "name": "stderr",
     "output_type": "stream",
     "text": [
      "C:\\Users\\DineshNaik\\anaconda3\\envs\\envbik\\lib\\site-packages\\sklearn\\utils\\validation.py:63: DataConversionWarning: A column-vector y was passed when a 1d array was expected. Please change the shape of y to (n_samples, ), for example using ravel().\n",
      "  return f(*args, **kwargs)\n"
     ]
    },
    {
     "data": {
      "text/plain": [
       "LogisticRegression()"
      ]
     },
     "execution_count": 46,
     "metadata": {},
     "output_type": "execute_result"
    }
   ],
   "source": [
    "# Apply logistic regression model in dataset\n",
    "log_reg = LogisticRegression()\n",
    "log_reg.fit(x_train,y_train)"
   ]
  },
  {
   "cell_type": "code",
   "execution_count": 47,
   "metadata": {},
   "outputs": [],
   "source": [
    "y_pred = log_reg.predict(x_train)"
   ]
  },
  {
   "cell_type": "code",
   "execution_count": 48,
   "metadata": {},
   "outputs": [
    {
     "data": {
      "text/plain": [
       "0.6818673674447364"
      ]
     },
     "execution_count": 48,
     "metadata": {},
     "output_type": "execute_result"
    }
   ],
   "source": [
    "# Accuracy check for the training data\n",
    "accuracy = accuracy_score(y_train,y_pred)\n",
    "accuracy"
   ]
  },
  {
   "cell_type": "code",
   "execution_count": 49,
   "metadata": {},
   "outputs": [
    {
     "data": {
      "text/plain": [
       "array([[2313,  929],\n",
       "       [1129, 2098]], dtype=int64)"
      ]
     },
     "execution_count": 49,
     "metadata": {},
     "output_type": "execute_result"
    }
   ],
   "source": [
    "# Confusion matrix\n",
    "conf_mat = confusion_matrix(y_train,y_pred)\n",
    "conf_mat"
   ]
  },
  {
   "cell_type": "code",
   "execution_count": 50,
   "metadata": {},
   "outputs": [],
   "source": [
    "tp = conf_mat[0][0]\n",
    "fp = conf_mat[0][1]\n",
    "fn = conf_mat[1][0]\n",
    "tn = conf_mat[1][1]"
   ]
  },
  {
   "cell_type": "code",
   "execution_count": 51,
   "metadata": {},
   "outputs": [
    {
     "data": {
      "text/plain": [
       "0.6818673674447364"
      ]
     },
     "execution_count": 51,
     "metadata": {},
     "output_type": "execute_result"
    }
   ],
   "source": [
    "# Accuracy check for the train datasets\n",
    "acc = (tp+tn) / (tp+fp+fn+tn)\n",
    "acc"
   ]
  },
  {
   "cell_type": "code",
   "execution_count": 52,
   "metadata": {},
   "outputs": [
    {
     "data": {
      "text/plain": [
       "0.7134484885872918"
      ]
     },
     "execution_count": 52,
     "metadata": {},
     "output_type": "execute_result"
    }
   ],
   "source": [
    "# Precision check\n",
    "prec = tp / (tp+fp)\n",
    "prec"
   ]
  },
  {
   "cell_type": "code",
   "execution_count": 53,
   "metadata": {},
   "outputs": [
    {
     "data": {
      "text/plain": [
       "0.6719930273097037"
      ]
     },
     "execution_count": 53,
     "metadata": {},
     "output_type": "execute_result"
    }
   ],
   "source": [
    "# Recall check\n",
    "rec = tp / (tp+fn)\n",
    "rec"
   ]
  },
  {
   "cell_type": "code",
   "execution_count": 54,
   "metadata": {},
   "outputs": [
    {
     "data": {
      "text/plain": [
       "0.6921005385996409"
      ]
     },
     "execution_count": 54,
     "metadata": {},
     "output_type": "execute_result"
    }
   ],
   "source": [
    "# F1 score\n",
    "f1_score = 2*(prec * rec)/(prec+rec)\n",
    "f1_score"
   ]
  },
  {
   "cell_type": "code",
   "execution_count": 55,
   "metadata": {},
   "outputs": [
    {
     "data": {
      "text/plain": [
       "0.6817939684956912"
      ]
     },
     "execution_count": 55,
     "metadata": {},
     "output_type": "execute_result"
    }
   ],
   "source": [
    "# Area under curve\n",
    "auc_roc_score = roc_auc_score(y_train,y_pred)\n",
    "auc_roc_score"
   ]
  },
  {
   "cell_type": "markdown",
   "metadata": {},
   "source": [
    "#### ROC"
   ]
  },
  {
   "cell_type": "code",
   "execution_count": 56,
   "metadata": {},
   "outputs": [],
   "source": [
    "fpr, tpr, threshold = roc_curve(y_train,y_pred)"
   ]
  },
  {
   "cell_type": "code",
   "execution_count": 57,
   "metadata": {},
   "outputs": [
    {
     "data": {
      "image/png": "[encoded data removed]",
      "text/plain": [
       "<Figure size 432x288 with 1 Axes>"
      ]
     },
     "metadata": {},
     "output_type": "display_data"
    }
   ],
   "source": [
    "plt.plot(fpr, tpr, color='orange', label='ROC')\n",
    "plt.plot([0, 1], [0, 1], color='darkblue', linestyle='--',label='ROC curve (area = %0.2f)' % auc_roc_score)\n",
    "plt.xlabel('False Positive Rate')\n",
    "plt.ylabel('True Positive Rate')\n",
    "plt.title('Receiver Operating Characteristic (ROC) Curve')\n",
    "plt.legend()\n",
    "plt.show()"
   ]
  },
  {
   "cell_type": "code",
   "execution_count": 58,
   "metadata": {},
   "outputs": [],
   "source": [
    "# Predection for the test datasets\n",
    "y_pred = log_reg.predict(x_test)"
   ]
  },
  {
   "cell_type": "code",
   "execution_count": 59,
   "metadata": {},
   "outputs": [
    {
     "data": {
      "text/plain": [
       "0.6801112656467315"
      ]
     },
     "execution_count": 59,
     "metadata": {},
     "output_type": "execute_result"
    }
   ],
   "source": [
    "# Accuracy check for the test dataset\n",
    "acc = accuracy_score(y_test,y_pred)\n",
    "acc"
   ]
  },
  {
   "cell_type": "code",
   "execution_count": 60,
   "metadata": {},
   "outputs": [
    {
     "data": {
      "text/plain": [
       "array([[753, 318],\n",
       "       [372, 714]], dtype=int64)"
      ]
     },
     "execution_count": 60,
     "metadata": {},
     "output_type": "execute_result"
    }
   ],
   "source": [
    "# Confusion matrix for the test dataset\n",
    "conf_mat = confusion_matrix(y_test,y_pred)\n",
    "conf_mat"
   ]
  },
  {
   "cell_type": "code",
   "execution_count": 61,
   "metadata": {},
   "outputs": [],
   "source": [
    "tp = conf_mat[0][0]\n",
    "fp = conf_mat[0][1]\n",
    "fn = conf_mat[1][0]\n",
    "tn = conf_mat[1][1]"
   ]
  },
  {
   "cell_type": "code",
   "execution_count": 62,
   "metadata": {},
   "outputs": [
    {
     "data": {
      "text/plain": [
       "0.7030812324929971"
      ]
     },
     "execution_count": 62,
     "metadata": {},
     "output_type": "execute_result"
    }
   ],
   "source": [
    "# Precesion for test dataset\n",
    "prec = tp / (tp+fp)\n",
    "prec"
   ]
  },
  {
   "cell_type": "code",
   "execution_count": 63,
   "metadata": {},
   "outputs": [
    {
     "data": {
      "text/plain": [
       "0.6693333333333333"
      ]
     },
     "execution_count": 63,
     "metadata": {},
     "output_type": "execute_result"
    }
   ],
   "source": [
    "# Recall for the test dataset\n",
    "rec = tp / (tp+fn)\n",
    "rec"
   ]
  },
  {
   "cell_type": "code",
   "execution_count": 64,
   "metadata": {},
   "outputs": [
    {
     "data": {
      "text/plain": [
       "0.6857923497267759"
      ]
     },
     "execution_count": 64,
     "metadata": {},
     "output_type": "execute_result"
    }
   ],
   "source": [
    "# F 1 score for the test dataset\n",
    "f1_score = 2 * (rec * prec) / (rec+prec)\n",
    "f1_score"
   ]
  },
  {
   "cell_type": "code",
   "execution_count": 65,
   "metadata": {},
   "outputs": [
    {
     "data": {
      "text/plain": [
       "0.6802698980144544"
      ]
     },
     "execution_count": 65,
     "metadata": {},
     "output_type": "execute_result"
    }
   ],
   "source": [
    "auc_roc_score = roc_auc_score(y_test,y_pred)\n",
    "auc_roc_score"
   ]
  },
  {
   "cell_type": "markdown",
   "metadata": {},
   "source": [
    "#### ROC"
   ]
  },
  {
   "cell_type": "code",
   "execution_count": 66,
   "metadata": {},
   "outputs": [],
   "source": [
    "fpr, tpr, threshold = roc_curve(y_test,y_pred)"
   ]
  },
  {
   "cell_type": "code",
   "execution_count": 67,
   "metadata": {},
   "outputs": [
    {
     "data": {
      "image/png": "[encoded data removed]",
      "text/plain": [
       "<Figure size 432x288 with 1 Axes>"
      ]
     },
     "metadata": {},
     "output_type": "display_data"
    }
   ],
   "source": [
    "plt.plot(fpr, tpr, color='orange', label='ROC')\n",
    "plt.plot([0, 1], [0, 1], color='darkblue', linestyle='--',label='ROC curve (area = %0.2f)' % auc_roc_score)\n",
    "plt.xlabel('False Positive Rate')\n",
    "plt.ylabel('True Positive Rate')\n",
    "plt.title('Receiver Operating Characteristic (ROC) Curve')\n",
    "plt.legend()\n",
    "plt.show()"
   ]
  },
  {
   "cell_type": "markdown",
   "metadata": {},
   "source": [
    "#### Conclusion :- As per the above model report, all the performance mesurement score is same for without label encoded data and with label encoded dataset. So we can say model is consistent for both the case"
   ]
  },
  {
   "cell_type": "code",
   "execution_count": null,
   "metadata": {},
   "outputs": [],
   "source": []
  }
 ],
 "metadata": {
  "kernelspec": {
   "display_name": "Python 3",
   "language": "python",
   "name": "python3"
  },
  "language_info": {
   "codemirror_mode": {
    "name": "ipython",
    "version": 3
   },
   "file_extension": ".py",
   "mimetype": "text/x-python",
   "name": "python",
   "nbconvert_exporter": "python",
   "pygments_lexer": "ipython3",
   "version": "3.6.10"
  }
 },
 "nbformat": 4,
 "nbformat_minor": 4
}
