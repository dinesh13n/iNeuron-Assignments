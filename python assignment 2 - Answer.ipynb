{
 "cells": [
  {
   "cell_type": "markdown",
   "metadata": {},
   "source": [
    "#### Question 1 :- Create the below pattern using nested for loop in Python."
   ]
  },
  {
   "cell_type": "code",
   "execution_count": 1,
   "metadata": {},
   "outputs": [
    {
     "name": "stdout",
     "output_type": "stream",
     "text": [
      "\n",
      "*\n",
      "**\n",
      "***\n",
      "****\n",
      "*****\n",
      "****\n",
      "***\n",
      "**\n",
      "*\n",
      "\n"
     ]
    }
   ],
   "source": [
    "n = 6\n",
    "for i in range(n):\n",
    "    conc = \"\"\n",
    "    for j in range(i):\n",
    "        conc = conc + \"*\"\n",
    "    print(conc)\n",
    "for i in reversed(range(n-1)):\n",
    "    conc = \"\"\n",
    "    for j in range(i):\n",
    "        conc = conc + \"*\"\n",
    "    print(conc)"
   ]
  },
  {
   "cell_type": "markdown",
   "metadata": {},
   "source": [
    "### Question 2 :- Write a Python program to reverse a word after accepting the input from the user\n",
    "Sample Output: \n",
    "\n",
    "Input word: ineuron\n",
    "\n",
    "Output: norueni"
   ]
  },
  {
   "cell_type": "code",
   "execution_count": 2,
   "metadata": {},
   "outputs": [
    {
     "name": "stdout",
     "output_type": "stream",
     "text": [
      "Please Enter any word : ineuron\n",
      "Output is : norueni\n"
     ]
    }
   ],
   "source": [
    "sinput = \"\"\n",
    "while sinput==\"\":\n",
    "    sinput = input(\"Please Enter any word : \").strip()\n",
    "    if sinput == \"\":\n",
    "        continue\n",
    "    else:\n",
    "        break\n",
    "print(\"Output is :\",sinput[::-1])        "
   ]
  },
  {
   "cell_type": "code",
   "execution_count": null,
   "metadata": {},
   "outputs": [],
   "source": []
  }
 ],
 "metadata": {
  "kernelspec": {
   "display_name": "Python 3",
   "language": "python",
   "name": "python3"
  },
  "language_info": {
   "codemirror_mode": {
    "name": "ipython",
    "version": 3
   },
   "file_extension": ".py",
   "mimetype": "text/x-python",
   "name": "python",
   "nbconvert_exporter": "python",
   "pygments_lexer": "ipython3",
   "version": "3.7.9"
  }
 },
 "nbformat": 4,
 "nbformat_minor": 4
}
