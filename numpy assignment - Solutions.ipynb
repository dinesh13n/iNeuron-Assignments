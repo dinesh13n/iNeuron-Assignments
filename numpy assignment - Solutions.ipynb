{
 "cells": [
  {
   "cell_type": "markdown",
   "metadata": {},
   "source": [
    "#### Question 1 :- Write a function so that the columns of the output matrix are powers of the input vector. \n",
    " \n",
    "The order of the powers is determined by the increasing boolean argument. Specifically, when increasing is False, the i-th output column is the input vector raised element-wise to the power of N - i - 1. \n",
    " \n",
    " \n",
    "HINT: Such a matrix with a geometric progression in each row is named for AlexandreTheophile Vandermonde. "
   ]
  },
  {
   "cell_type": "code",
   "execution_count": 1,
   "metadata": {},
   "outputs": [
    {
     "name": "stdout",
     "output_type": "stream",
     "text": [
      "[array([ 64, 125, 216, 343, 512], dtype=int32), array([16, 25, 36, 49, 64], dtype=int32), array([4, 5, 6, 7, 8], dtype=int32), array([1, 1, 1, 1, 1], dtype=int32)]\n",
      "[[ 64  16   4   1]\n",
      " [125  25   5   1]\n",
      " [216  36   6   1]\n",
      " [343  49   7   1]\n",
      " [512  64   8   1]]\n"
     ]
    }
   ],
   "source": [
    "import numpy as np\n",
    "\n",
    "a = np.array([4,5,6,7,8])\n",
    "n = 4\n",
    "vec = [a**(n-i-1) for i in range(n)]\n",
    "print (vec)\n",
    "mat = np.column_stack(vec)\n",
    "print (mat)"
   ]
  },
  {
   "cell_type": "code",
   "execution_count": 2,
   "metadata": {},
   "outputs": [
    {
     "name": "stdout",
     "output_type": "stream",
     "text": [
      "[[ 64  16   4   1]\n",
      " [125  25   5   1]\n",
      " [216  36   6   1]\n",
      " [343  49   7   1]\n",
      " [512  64   8   1]]\n"
     ]
    }
   ],
   "source": [
    "a = np.array([4,5,6,7,8])\n",
    "n = 4\n",
    "\n",
    "mat1 = np.vander(a,n,increasing=False)\n",
    "print (mat1)"
   ]
  },
  {
   "cell_type": "markdown",
   "metadata": {},
   "source": [
    "#### Question: Write a function to find moving average in an array over a window:          \n",
    "        \n",
    "        Test it over [3, 5, 7, 2, 8, 10, 11, 65, 72, 81, 99, 100, 150] and window of 3. "
   ]
  },
  {
   "cell_type": "code",
   "execution_count": 3,
   "metadata": {},
   "outputs": [],
   "source": [
    "def get_moving_avg (inp,window):\n",
    "    inp_len = len(inp) # n\n",
    "    mov_seq = inp_len-window+1 # moving sequence n-k+1; window - k\n",
    "    return [round(np.sum(inp[val:val+window])/window,2) for val in range(mov_seq)]   "
   ]
  },
  {
   "cell_type": "code",
   "execution_count": 4,
   "metadata": {},
   "outputs": [
    {
     "name": "stdout",
     "output_type": "stream",
     "text": [
      "[5.0, 4.67, 5.67, 6.67, 9.67, 28.67, 49.33, 72.67, 84.0, 93.33, 116.33]\n"
     ]
    }
   ],
   "source": [
    "inp = [3, 5, 7, 2, 8, 10, 11, 65, 72, 81, 99, 100, 150]\n",
    "output = get_moving_avg(inp,3)\n",
    "print (output)"
   ]
  },
  {
   "cell_type": "code",
   "execution_count": null,
   "metadata": {},
   "outputs": [],
   "source": []
  }
 ],
 "metadata": {
  "kernelspec": {
   "display_name": "Python 3",
   "language": "python",
   "name": "python3"
  },
  "language_info": {
   "codemirror_mode": {
    "name": "ipython",
    "version": 3
   },
   "file_extension": ".py",
   "mimetype": "text/x-python",
   "name": "python",
   "nbconvert_exporter": "python",
   "pygments_lexer": "ipython3",
   "version": "3.8.5"
  }
 },
 "nbformat": 4,
 "nbformat_minor": 4
}
